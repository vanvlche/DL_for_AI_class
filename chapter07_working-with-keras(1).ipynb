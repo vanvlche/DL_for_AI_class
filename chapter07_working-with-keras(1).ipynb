{
  "cells": [
    {
      "cell_type": "markdown",
      "metadata": {
        "id": "c1-Dcneos-YG"
      },
      "source": [
        "This is a companion notebook for the book [Deep Learning with Python, Second Edition](https://www.manning.com/books/deep-learning-with-python-second-edition?a_aid=keras&a_bid=76564dff). For readability, it only contains runnable code blocks and section titles, and omits everything else in the book: text paragraphs, figures, and pseudocode.\n",
        "\n",
        "**If you want to be able to follow what's going on, I recommend reading the notebook side by side with your copy of the book.**\n",
        "\n",
        "This notebook was generated for TensorFlow 2.6."
      ]
    },
    {
      "cell_type": "markdown",
      "metadata": {
        "id": "Dp8uFOVts-YI"
      },
      "source": [
        "# Working with Keras: A deep dive"
      ]
    },
    {
      "cell_type": "markdown",
      "metadata": {
        "id": "dZ7fGOH7s-YI"
      },
      "source": [
        "## A spectrum of workflows"
      ]
    },
    {
      "cell_type": "markdown",
      "metadata": {
        "id": "9dYrAVvDs-YI"
      },
      "source": [
        "## Different ways to build Keras models"
      ]
    },
    {
      "cell_type": "markdown",
      "metadata": {
        "id": "k2a9BTnVs-YJ"
      },
      "source": [
        "### The Sequential model"
      ]
    },
    {
      "cell_type": "markdown",
      "metadata": {
        "id": "umXeoa_Bs-YJ"
      },
      "source": [
        "**The `Sequential` class**"
      ]
    },
    {
      "cell_type": "code",
      "execution_count": 1,
      "metadata": {
        "id": "SjAzZ_Bas-YJ"
      },
      "outputs": [],
      "source": [
        "from tensorflow import keras\n",
        "from tensorflow.keras import layers\n",
        "\n",
        "model = keras.Sequential([\n",
        "    layers.Dense(64, activation=\"relu\"),\n",
        "    layers.Dense(10, activation=\"softmax\")\n",
        "])"
      ]
    },
    {
      "cell_type": "markdown",
      "metadata": {
        "id": "rqesGWjAs-YK"
      },
      "source": [
        "**Incrementally building a Sequential model**"
      ]
    },
    {
      "cell_type": "code",
      "execution_count": 2,
      "metadata": {
        "id": "C2mdv8dqs-YK"
      },
      "outputs": [],
      "source": [
        "model = keras.Sequential()\n",
        "model.add(layers.Dense(64, activation=\"relu\"))\n",
        "model.add(layers.Dense(10, activation=\"softmax\"))"
      ]
    },
    {
      "cell_type": "markdown",
      "metadata": {
        "id": "ZG_BZ5Drs-YK"
      },
      "source": [
        "**Calling a model for the first time to build it**"
      ]
    },
    {
      "cell_type": "code",
      "execution_count": 3,
      "metadata": {
        "id": "DALDFcKQs-YK",
        "outputId": "f4c5ea75-47de-43c3-874b-389b3907c762",
        "colab": {
          "base_uri": "https://localhost:8080/"
        }
      },
      "outputs": [
        {
          "output_type": "execute_result",
          "data": {
            "text/plain": [
              "[<tf.Variable 'dense_2/kernel:0' shape=(3, 64) dtype=float32, numpy=\n",
              " array([[ 0.08308229, -0.24993832,  0.03155184,  0.20989949, -0.12370688,\n",
              "          0.02281761, -0.16733426, -0.25078094,  0.24555886, -0.20488463,\n",
              "         -0.03625962, -0.05117823,  0.0103184 ,  0.29589212,  0.20813853,\n",
              "         -0.2911286 , -0.239727  ,  0.02931857, -0.1766167 , -0.05653249,\n",
              "         -0.18727002,  0.11326984,  0.2895792 , -0.00269324,  0.1897552 ,\n",
              "          0.02121538,  0.04467133,  0.14076555,  0.21797162,  0.2778504 ,\n",
              "         -0.1335626 ,  0.09557679, -0.08644298, -0.28253996,  0.23612237,\n",
              "         -0.07325961, -0.16844493, -0.20040865,  0.14399216,  0.03021035,\n",
              "         -0.06287734,  0.07154   , -0.28842342, -0.24068542, -0.20608526,\n",
              "         -0.21432924, -0.2666037 ,  0.04826996, -0.09393089,  0.23344225,\n",
              "         -0.213424  , -0.13003305, -0.15831381,  0.13819867,  0.02334324,\n",
              "          0.16054714,  0.2792225 ,  0.05183071,  0.28938127,  0.10284674,\n",
              "          0.18170378, -0.28808457, -0.00771764, -0.25399935],\n",
              "        [ 0.28071356,  0.1617502 , -0.20887959, -0.11356127, -0.14291647,\n",
              "         -0.18524632, -0.13572164, -0.16717416, -0.2210364 ,  0.04178968,\n",
              "         -0.09263015,  0.13367912,  0.23105466,  0.24919915, -0.01359782,\n",
              "         -0.20965984,  0.11790249,  0.10478097,  0.02982408, -0.20008159,\n",
              "          0.05999741, -0.00844997,  0.06178567, -0.24508941, -0.29658684,\n",
              "          0.05207619,  0.21572894, -0.0080044 , -0.03144774, -0.23903514,\n",
              "         -0.11966619, -0.09034412,  0.23102415, -0.23089013, -0.10308383,\n",
              "          0.13632381, -0.18914932, -0.09295699, -0.07263939,  0.07100081,\n",
              "         -0.2955949 ,  0.16141891, -0.03790647,  0.1272077 , -0.10573938,\n",
              "         -0.06861646,  0.27762753, -0.03932142,  0.00190884, -0.00661114,\n",
              "          0.15379018, -0.15303217, -0.23051327,  0.29034287, -0.0701707 ,\n",
              "          0.114122  , -0.21619171,  0.05675444, -0.21800435, -0.1419156 ,\n",
              "          0.07751134,  0.10737339, -0.20476113,  0.1370804 ],\n",
              "        [-0.08116098, -0.21695441,  0.27345878, -0.14209947, -0.07307118,\n",
              "         -0.01124671,  0.23677272, -0.04853702, -0.19648755, -0.06371062,\n",
              "         -0.2039136 , -0.26381588,  0.13735914, -0.03958321, -0.07529543,\n",
              "          0.00955898, -0.21642357, -0.09794219,  0.14796022, -0.03325438,\n",
              "         -0.11290288,  0.0352684 , -0.228795  ,  0.1391314 , -0.27117375,\n",
              "         -0.10495821, -0.2460165 , -0.24660268,  0.286394  ,  0.2069518 ,\n",
              "         -0.07240094,  0.1875537 , -0.26085913,  0.20956904,  0.26138878,\n",
              "          0.29717487,  0.13835123,  0.02690026, -0.26239294, -0.19923313,\n",
              "          0.10623184,  0.1132395 , -0.2169138 ,  0.07770735,  0.01903605,\n",
              "         -0.23291141, -0.23646964, -0.2759539 , -0.05577035,  0.22939163,\n",
              "         -0.05767848, -0.19640484,  0.11007467, -0.08375168,  0.25011325,\n",
              "          0.24814963,  0.07076168, -0.23108505, -0.00161675,  0.03849322,\n",
              "          0.27639323, -0.04131022,  0.26075613, -0.09242852]],\n",
              "       dtype=float32)>,\n",
              " <tf.Variable 'dense_2/bias:0' shape=(64,) dtype=float32, numpy=\n",
              " array([0., 0., 0., 0., 0., 0., 0., 0., 0., 0., 0., 0., 0., 0., 0., 0., 0.,\n",
              "        0., 0., 0., 0., 0., 0., 0., 0., 0., 0., 0., 0., 0., 0., 0., 0., 0.,\n",
              "        0., 0., 0., 0., 0., 0., 0., 0., 0., 0., 0., 0., 0., 0., 0., 0., 0.,\n",
              "        0., 0., 0., 0., 0., 0., 0., 0., 0., 0., 0., 0., 0.], dtype=float32)>,\n",
              " <tf.Variable 'dense_3/kernel:0' shape=(64, 10) dtype=float32, numpy=\n",
              " array([[-0.01332071,  0.00062153, -0.15245236, -0.05384541,  0.23991278,\n",
              "         -0.2600247 , -0.05804692,  0.21839151,  0.26645634, -0.13791122],\n",
              "        [-0.08866896, -0.22753721,  0.00213906,  0.27821335,  0.18786636,\n",
              "          0.24896136,  0.14902303,  0.2222651 , -0.09389852,  0.1181891 ],\n",
              "        [-0.15323928,  0.13240275, -0.07948683,  0.11421353,  0.19911402,\n",
              "          0.19863641, -0.2488486 , -0.20931178, -0.250781  ,  0.2012949 ],\n",
              "        [ 0.06931794,  0.05039215,  0.10767972, -0.22130913, -0.04815724,\n",
              "          0.27388087,  0.08362916,  0.14791548, -0.19480708, -0.18679854],\n",
              "        [ 0.13985556, -0.10130399, -0.2228268 , -0.21542743,  0.2196841 ,\n",
              "          0.2822694 , -0.01834357,  0.13293052,  0.12944436,  0.06385008],\n",
              "        [-0.25704485, -0.25708932,  0.20438147,  0.1878433 ,  0.13712424,\n",
              "         -0.27008104,  0.25259718, -0.2539678 , -0.28020677, -0.21651149],\n",
              "        [-0.09845409, -0.0813753 , -0.21384282, -0.16379264,  0.24250588,\n",
              "         -0.1739681 ,  0.19775638, -0.15373704, -0.03488581,  0.11376646],\n",
              "        [-0.25710127, -0.14264953,  0.06772485, -0.13789988, -0.15340763,\n",
              "         -0.02564517,  0.01540613,  0.1493713 , -0.01245785, -0.15171686],\n",
              "        [ 0.27483025,  0.08206153, -0.03166088, -0.03982718,  0.20640177,\n",
              "          0.25921693,  0.24861196,  0.24753705,  0.18939584, -0.26361734],\n",
              "        [-0.17944813, -0.24099825, -0.08709829, -0.05948006,  0.05558214,\n",
              "         -0.18847656,  0.19238213, -0.06946729, -0.05096555, -0.10189463],\n",
              "        [-0.13368566, -0.01836196,  0.1773504 , -0.14235795,  0.12100324,\n",
              "         -0.11918958, -0.07482047, -0.2553656 ,  0.21039468, -0.2745051 ],\n",
              "        [ 0.2621561 , -0.15120247, -0.24578722,  0.10519195,  0.20418423,\n",
              "          0.09178051, -0.08767344, -0.26483452, -0.20612872, -0.13692817],\n",
              "        [-0.02127847,  0.06187859,  0.1138114 ,  0.11456293, -0.03505479,\n",
              "          0.20663023, -0.17944418, -0.23501085,  0.14975521, -0.19203448],\n",
              "        [ 0.04633299, -0.05137424, -0.07336412, -0.12224825,  0.02851871,\n",
              "          0.10868204, -0.16774805, -0.00175148,  0.0387485 ,  0.09519371],\n",
              "        [ 0.16471192, -0.18460396, -0.22831596, -0.09837072,  0.17214882,\n",
              "         -0.0366859 ,  0.2540842 ,  0.18935892,  0.25687107,  0.04975107],\n",
              "        [ 0.17959985,  0.06180269, -0.25685388, -0.16098174,  0.2357646 ,\n",
              "         -0.154272  ,  0.17138726,  0.10980678, -0.20976391, -0.05164246],\n",
              "        [ 0.07505774,  0.1626535 ,  0.27364442,  0.19391352,  0.10809556,\n",
              "         -0.04808263,  0.09169552, -0.08105107,  0.01975986,  0.02538285],\n",
              "        [-0.00714839,  0.19587463, -0.00524566,  0.17220041,  0.01772434,\n",
              "         -0.25923604,  0.28460434,  0.01902306, -0.1023569 ,  0.08260003],\n",
              "        [ 0.00625381,  0.2776856 , -0.28429878, -0.0706345 ,  0.2460579 ,\n",
              "          0.02964762,  0.21752843,  0.06852424,  0.10297468,  0.03295255],\n",
              "        [ 0.2787678 , -0.17575577,  0.27797177,  0.09667599, -0.02943805,\n",
              "         -0.07746556,  0.18995729, -0.2171129 , -0.16770834,  0.23235735],\n",
              "        [ 0.24721012,  0.05474722,  0.19367802,  0.03033215,  0.2417027 ,\n",
              "          0.00521123,  0.16836497, -0.17145595, -0.22576584,  0.07091883],\n",
              "        [ 0.1779716 ,  0.07865852,  0.15622517, -0.153342  , -0.1176229 ,\n",
              "          0.09558463,  0.1731241 , -0.0186249 ,  0.01501223,  0.12189835],\n",
              "        [ 0.08432209,  0.1802657 , -0.0158405 ,  0.21668366, -0.12538704,\n",
              "          0.07847142,  0.02331975, -0.2142103 , -0.20696288,  0.19030765],\n",
              "        [ 0.01612747,  0.1289415 , -0.1848083 , -0.1373852 ,  0.27175704,\n",
              "         -0.05242184, -0.17081296, -0.03754747,  0.01416466, -0.1015666 ],\n",
              "        [ 0.04155931, -0.09669949, -0.02391642, -0.15240729,  0.18120393,\n",
              "         -0.17936048, -0.01685753,  0.08231109, -0.12745616,  0.14881739],\n",
              "        [ 0.15244973, -0.00941199, -0.13918678,  0.2598311 ,  0.24653432,\n",
              "         -0.01713547,  0.13218027,  0.08457676,  0.25485453,  0.17037195],\n",
              "        [ 0.17031053,  0.20645744, -0.25752726,  0.13338166, -0.1559993 ,\n",
              "          0.19037968, -0.09347381,  0.14293644, -0.0996771 , -0.08751798],\n",
              "        [ 0.22162572, -0.14643699,  0.1866633 , -0.18555447, -0.07540968,\n",
              "          0.2648308 , -0.05407928, -0.21902391, -0.0271982 , -0.06949492],\n",
              "        [ 0.28438643, -0.2777756 ,  0.19929162,  0.23646   ,  0.23143873,\n",
              "          0.08443791, -0.16940291,  0.03135601, -0.10248873,  0.08200416],\n",
              "        [-0.2533593 ,  0.22622058, -0.18444917,  0.251825  , -0.25088257,\n",
              "          0.02304122,  0.09149945,  0.03289762,  0.14213493, -0.02786058],\n",
              "        [-0.18069267, -0.09651856, -0.07448572, -0.11960717,  0.1231291 ,\n",
              "         -0.10905883, -0.26018363, -0.12329395, -0.0080044 , -0.17094372],\n",
              "        [ 0.00766766,  0.16909122, -0.17399453,  0.12517366,  0.13941598,\n",
              "          0.07041469, -0.23919845,  0.25351098, -0.05725153, -0.0633124 ],\n",
              "        [ 0.16471183,  0.15766278, -0.01385087,  0.18835545,  0.14406237,\n",
              "         -0.07729429, -0.21433733, -0.08406459, -0.21269992, -0.20525825],\n",
              "        [-0.25927705, -0.2787595 , -0.01094669,  0.00494999, -0.07850827,\n",
              "          0.17956218, -0.17441672,  0.06286785,  0.02598855,  0.03641081],\n",
              "        [ 0.15177146, -0.22109392,  0.1167182 ,  0.17357504,  0.01114866,\n",
              "         -0.16301483,  0.09185594, -0.24015337, -0.05147913, -0.20381561],\n",
              "        [ 0.04118809,  0.273563  , -0.00860554,  0.24329892,  0.24395981,\n",
              "         -0.27367827,  0.17403796, -0.11493599,  0.02885327, -0.01093823],\n",
              "        [-0.01043925, -0.15407498,  0.02242416, -0.07033294,  0.01066354,\n",
              "          0.23098138,  0.16561979, -0.01087964,  0.22340998, -0.03416538],\n",
              "        [ 0.27812126,  0.18787715, -0.27292663, -0.25171244, -0.03712745,\n",
              "         -0.21471146, -0.18812835, -0.02509716, -0.02169165, -0.27821565],\n",
              "        [ 0.20220637, -0.22604786,  0.25607666,  0.04500842, -0.24746352,\n",
              "         -0.25361916,  0.0918588 ,  0.20457026, -0.28254685, -0.13930552],\n",
              "        [-0.09633744, -0.09982599,  0.23025915,  0.22713074,  0.2556378 ,\n",
              "          0.25830284, -0.15321238,  0.00625467,  0.22811934, -0.05776063],\n",
              "        [ 0.2332069 ,  0.06466448,  0.07720527, -0.06314076, -0.09430729,\n",
              "         -0.11382912, -0.05547324,  0.14663067,  0.18637484,  0.10140252],\n",
              "        [ 0.07875261, -0.13189991,  0.11586887, -0.07721533,  0.14663035,\n",
              "         -0.2137192 , -0.02985761, -0.10110699,  0.2776151 , -0.20125788],\n",
              "        [-0.04024899, -0.21575764,  0.16165698,  0.04337785, -0.01545262,\n",
              "         -0.15419304, -0.20915535, -0.10946074,  0.20143765, -0.06937101],\n",
              "        [ 0.2127555 ,  0.18567336, -0.12871014, -0.08813848, -0.21250194,\n",
              "         -0.01383191,  0.03908911, -0.09664376,  0.18119055,  0.10316437],\n",
              "        [-0.08925404, -0.18788898, -0.22491622,  0.07500127,  0.03640613,\n",
              "         -0.18828775,  0.23220715,  0.12292939,  0.25815794, -0.01753071],\n",
              "        [-0.20487699, -0.20903704,  0.07345861, -0.09944323, -0.06748812,\n",
              "          0.26640537, -0.00877872, -0.19924667, -0.02170351,  0.01029783],\n",
              "        [-0.06559014,  0.2737783 , -0.19879983,  0.11332336, -0.18783921,\n",
              "         -0.1504028 ,  0.21046916,  0.07747608,  0.04060608, -0.06276181],\n",
              "        [ 0.11705324,  0.26684937, -0.06830578,  0.05354819, -0.18290503,\n",
              "          0.22894642, -0.23541152, -0.1598311 ,  0.2361199 , -0.11174046],\n",
              "        [ 0.17565122,  0.24837503,  0.09986162, -0.23966531, -0.03111872,\n",
              "          0.15630454, -0.00891724,  0.03510666, -0.01620334, -0.16116273],\n",
              "        [ 0.07174176,  0.17634246,  0.28123382,  0.00246689, -0.01838022,\n",
              "         -0.2282702 , -0.07686849,  0.02785984,  0.17952776, -0.18463567],\n",
              "        [ 0.2640936 ,  0.04968876,  0.23046818, -0.13148428,  0.22135511,\n",
              "         -0.1056802 ,  0.02377352,  0.24740216,  0.25363263, -0.1620117 ],\n",
              "        [-0.2123306 , -0.07573882,  0.11407277,  0.02966195,  0.09866053,\n",
              "          0.16160125, -0.14667976,  0.19678754,  0.1565716 , -0.09548971],\n",
              "        [ 0.04252794, -0.2357604 ,  0.1322684 , -0.2783323 ,  0.18279445,\n",
              "         -0.19351473,  0.01167643, -0.14922683,  0.04918441, -0.11598256],\n",
              "        [ 0.16604438, -0.16705945, -0.11530815,  0.17289722, -0.10697009,\n",
              "         -0.05688547,  0.11771503,  0.23843   ,  0.05982676,  0.18313503],\n",
              "        [ 0.00478339,  0.14952779,  0.24623361,  0.0207611 , -0.20289083,\n",
              "         -0.25597614, -0.01788068,  0.09835953,  0.09623763,  0.17205676],\n",
              "        [ 0.28085056, -0.22626422,  0.07280925,  0.04014918, -0.00360274,\n",
              "         -0.03012958,  0.06807664,  0.2262772 , -0.1895073 ,  0.00201392],\n",
              "        [ 0.04252443,  0.05086648,  0.253899  ,  0.18858781,  0.24601433,\n",
              "          0.27585456, -0.03763703,  0.22166058,  0.05434018, -0.24032886],\n",
              "        [-0.20020214, -0.01499134,  0.02054772, -0.09033781, -0.16208068,\n",
              "          0.05968204, -0.17086613, -0.1608262 ,  0.09380102, -0.1352907 ],\n",
              "        [ 0.16354084,  0.10744327,  0.16231266,  0.18701342,  0.24850205,\n",
              "         -0.06163846,  0.04166603,  0.14810815, -0.1502622 ,  0.11087582],\n",
              "        [ 0.22010788,  0.02381018,  0.21173841, -0.21173534, -0.13406536,\n",
              "          0.26827946,  0.04680762, -0.16863564, -0.25928968,  0.07695565],\n",
              "        [ 0.03152585, -0.02135471, -0.10791884, -0.04374242, -0.14193268,\n",
              "         -0.2478638 , -0.22059949,  0.10433105, -0.04295714, -0.078163  ],\n",
              "        [-0.12780158, -0.19719249,  0.08533785,  0.28235593, -0.16593629,\n",
              "          0.1883946 ,  0.07671186, -0.1988464 ,  0.18056238,  0.23091939],\n",
              "        [-0.24938343,  0.00422662,  0.16249046,  0.01221746,  0.14850917,\n",
              "          0.23456773, -0.05597447, -0.1173512 ,  0.27665803,  0.18512365],\n",
              "        [-0.0667702 ,  0.20907933, -0.25531816, -0.16531709, -0.2033492 ,\n",
              "         -0.12792194,  0.25858513, -0.01598361,  0.24725083,  0.15060958]],\n",
              "       dtype=float32)>,\n",
              " <tf.Variable 'dense_3/bias:0' shape=(10,) dtype=float32, numpy=array([0., 0., 0., 0., 0., 0., 0., 0., 0., 0.], dtype=float32)>]"
            ]
          },
          "metadata": {},
          "execution_count": 3
        }
      ],
      "source": [
        "model.build(input_shape=(None, 3))\n",
        "model.weights"
      ]
    },
    {
      "cell_type": "markdown",
      "metadata": {
        "id": "TWdokkGds-YK"
      },
      "source": [
        "**The summary method**"
      ]
    },
    {
      "cell_type": "code",
      "execution_count": 4,
      "metadata": {
        "id": "BKME0M9zs-YL",
        "outputId": "f4edcdeb-4f15-49b8-ad34-9bbcfd0643f7",
        "colab": {
          "base_uri": "https://localhost:8080/"
        }
      },
      "outputs": [
        {
          "output_type": "stream",
          "name": "stdout",
          "text": [
            "Model: \"sequential_1\"\n",
            "_________________________________________________________________\n",
            " Layer (type)                Output Shape              Param #   \n",
            "=================================================================\n",
            " dense_2 (Dense)             (None, 64)                256       \n",
            "                                                                 \n",
            " dense_3 (Dense)             (None, 10)                650       \n",
            "                                                                 \n",
            "=================================================================\n",
            "Total params: 906\n",
            "Trainable params: 906\n",
            "Non-trainable params: 0\n",
            "_________________________________________________________________\n"
          ]
        }
      ],
      "source": [
        "model.summary()"
      ]
    },
    {
      "cell_type": "markdown",
      "metadata": {
        "id": "RVCTADPxs-YL"
      },
      "source": [
        "**Naming models and layers with the `name` argument**"
      ]
    },
    {
      "cell_type": "code",
      "execution_count": 5,
      "metadata": {
        "id": "lku6s1b3s-YL",
        "outputId": "39b64636-b944-4672-a547-e0a5585a12f5",
        "colab": {
          "base_uri": "https://localhost:8080/"
        }
      },
      "outputs": [
        {
          "output_type": "stream",
          "name": "stdout",
          "text": [
            "Model: \"my_example_model\"\n",
            "_________________________________________________________________\n",
            " Layer (type)                Output Shape              Param #   \n",
            "=================================================================\n",
            " my_first_layer (Dense)      (None, 64)                256       \n",
            "                                                                 \n",
            " my_last_layer (Dense)       (None, 10)                650       \n",
            "                                                                 \n",
            "=================================================================\n",
            "Total params: 906\n",
            "Trainable params: 906\n",
            "Non-trainable params: 0\n",
            "_________________________________________________________________\n"
          ]
        }
      ],
      "source": [
        "model = keras.Sequential(name=\"my_example_model\")\n",
        "model.add(layers.Dense(64, activation=\"relu\", name=\"my_first_layer\"))\n",
        "model.add(layers.Dense(10, activation=\"softmax\", name=\"my_last_layer\"))\n",
        "model.build((None, 3))\n",
        "model.summary()"
      ]
    },
    {
      "cell_type": "markdown",
      "metadata": {
        "id": "aYBJaDqms-YM"
      },
      "source": [
        "**Specifying the input shape of your model in advance**"
      ]
    },
    {
      "cell_type": "code",
      "execution_count": 6,
      "metadata": {
        "id": "rnu4BvKPs-YM"
      },
      "outputs": [],
      "source": [
        "model = keras.Sequential()\n",
        "model.add(keras.Input(shape=(3,)))\n",
        "model.add(layers.Dense(64, activation=\"relu\"))"
      ]
    },
    {
      "cell_type": "code",
      "execution_count": 7,
      "metadata": {
        "id": "OxXlnF5ps-YM",
        "outputId": "0092b74d-64a7-4691-82c0-8f01b0b6b1be",
        "colab": {
          "base_uri": "https://localhost:8080/"
        }
      },
      "outputs": [
        {
          "output_type": "stream",
          "name": "stdout",
          "text": [
            "Model: \"sequential_2\"\n",
            "_________________________________________________________________\n",
            " Layer (type)                Output Shape              Param #   \n",
            "=================================================================\n",
            " dense_4 (Dense)             (None, 64)                256       \n",
            "                                                                 \n",
            "=================================================================\n",
            "Total params: 256\n",
            "Trainable params: 256\n",
            "Non-trainable params: 0\n",
            "_________________________________________________________________\n"
          ]
        }
      ],
      "source": [
        "model.summary()"
      ]
    },
    {
      "cell_type": "code",
      "execution_count": 8,
      "metadata": {
        "id": "i7cUYwIZs-YM",
        "outputId": "82c7eff7-f378-4f06-b617-4b8ce3b7f43e",
        "colab": {
          "base_uri": "https://localhost:8080/"
        }
      },
      "outputs": [
        {
          "output_type": "stream",
          "name": "stdout",
          "text": [
            "Model: \"sequential_2\"\n",
            "_________________________________________________________________\n",
            " Layer (type)                Output Shape              Param #   \n",
            "=================================================================\n",
            " dense_4 (Dense)             (None, 64)                256       \n",
            "                                                                 \n",
            " dense_5 (Dense)             (None, 10)                650       \n",
            "                                                                 \n",
            "=================================================================\n",
            "Total params: 906\n",
            "Trainable params: 906\n",
            "Non-trainable params: 0\n",
            "_________________________________________________________________\n"
          ]
        }
      ],
      "source": [
        "model.add(layers.Dense(10, activation=\"softmax\"))\n",
        "model.summary()"
      ]
    },
    {
      "cell_type": "markdown",
      "metadata": {
        "id": "HZMZ9hEOs-YN"
      },
      "source": [
        "### The Functional API"
      ]
    },
    {
      "cell_type": "markdown",
      "metadata": {
        "id": "eCYiC7Vjs-YN"
      },
      "source": [
        "#### A simple example"
      ]
    },
    {
      "cell_type": "markdown",
      "metadata": {
        "id": "-XwQei1Ks-YN"
      },
      "source": [
        "**A simple Functional model with two `Dense` layers**"
      ]
    },
    {
      "cell_type": "code",
      "execution_count": 9,
      "metadata": {
        "id": "_75ZLkfzs-YO"
      },
      "outputs": [],
      "source": [
        "inputs = keras.Input(shape=(3,), name=\"my_input\")\n",
        "features = layers.Dense(64, activation=\"relu\")(inputs)\n",
        "outputs = layers.Dense(10, activation=\"softmax\")(features)\n",
        "model = keras.Model(inputs=inputs, outputs=outputs)"
      ]
    },
    {
      "cell_type": "code",
      "execution_count": 10,
      "metadata": {
        "id": "hNoPnSPas-YO"
      },
      "outputs": [],
      "source": [
        "inputs = keras.Input(shape=(3,), name=\"my_input\")"
      ]
    },
    {
      "cell_type": "code",
      "execution_count": 11,
      "metadata": {
        "id": "OL5Fr0MQs-YO",
        "outputId": "a5ca5f46-5d5b-4896-d38b-f5cd9102e980",
        "colab": {
          "base_uri": "https://localhost:8080/"
        }
      },
      "outputs": [
        {
          "output_type": "execute_result",
          "data": {
            "text/plain": [
              "TensorShape([None, 3])"
            ]
          },
          "metadata": {},
          "execution_count": 11
        }
      ],
      "source": [
        "inputs.shape"
      ]
    },
    {
      "cell_type": "code",
      "execution_count": 12,
      "metadata": {
        "id": "RVH_b66Ss-YO",
        "outputId": "7014ac5d-60c5-4efb-8430-4523ae17cb16",
        "colab": {
          "base_uri": "https://localhost:8080/"
        }
      },
      "outputs": [
        {
          "output_type": "execute_result",
          "data": {
            "text/plain": [
              "tf.float32"
            ]
          },
          "metadata": {},
          "execution_count": 12
        }
      ],
      "source": [
        "inputs.dtype"
      ]
    },
    {
      "cell_type": "code",
      "execution_count": 14,
      "metadata": {
        "id": "CqwYIT9ps-YP"
      },
      "outputs": [],
      "source": [
        "features = layers.Dense(64, activation=\"relu\")(inputs)"
      ]
    },
    {
      "cell_type": "code",
      "execution_count": 13,
      "metadata": {
        "id": "a1-vWu4Ps-YP",
        "outputId": "f56902da-c300-46bd-a897-a3b805bab3e0",
        "colab": {
          "base_uri": "https://localhost:8080/"
        }
      },
      "outputs": [
        {
          "output_type": "execute_result",
          "data": {
            "text/plain": [
              "TensorShape([None, 64])"
            ]
          },
          "metadata": {},
          "execution_count": 13
        }
      ],
      "source": [
        "features.shape"
      ]
    },
    {
      "cell_type": "code",
      "execution_count": 15,
      "metadata": {
        "id": "DVxNiHI3s-YP"
      },
      "outputs": [],
      "source": [
        "outputs = layers.Dense(10, activation=\"softmax\")(features)\n",
        "model = keras.Model(inputs=inputs, outputs=outputs)"
      ]
    },
    {
      "cell_type": "code",
      "execution_count": 16,
      "metadata": {
        "id": "KYZ8Th2ws-YP",
        "outputId": "9d39da0c-e8b6-4da4-d59b-8ca2fd209fb4",
        "colab": {
          "base_uri": "https://localhost:8080/"
        }
      },
      "outputs": [
        {
          "output_type": "stream",
          "name": "stdout",
          "text": [
            "Model: \"model_1\"\n",
            "_________________________________________________________________\n",
            " Layer (type)                Output Shape              Param #   \n",
            "=================================================================\n",
            " my_input (InputLayer)       [(None, 3)]               0         \n",
            "                                                                 \n",
            " dense_8 (Dense)             (None, 64)                256       \n",
            "                                                                 \n",
            " dense_9 (Dense)             (None, 10)                650       \n",
            "                                                                 \n",
            "=================================================================\n",
            "Total params: 906\n",
            "Trainable params: 906\n",
            "Non-trainable params: 0\n",
            "_________________________________________________________________\n"
          ]
        }
      ],
      "source": [
        "model.summary()"
      ]
    },
    {
      "cell_type": "markdown",
      "metadata": {
        "id": "oTW1LiR_s-YP"
      },
      "source": [
        "#### Multi-input, multi-output models"
      ]
    },
    {
      "cell_type": "markdown",
      "metadata": {
        "id": "utJjhcH8s-YP"
      },
      "source": [
        "**A multi-input, multi-output Functional model**"
      ]
    },
    {
      "cell_type": "markdown",
      "source": [
        "code"
      ],
      "metadata": {
        "id": "VQD5F0it5VSq"
      }
    },
    {
      "cell_type": "code",
      "execution_count": 21,
      "metadata": {
        "id": "XRhLhMLLs-YP"
      },
      "outputs": [],
      "source": [
        "vocabulary_size = 10000\n",
        "num_tags = 100\n",
        "num_departments = 4\n",
        "\n",
        "title = keras.Input(shape=(vocabulary_size,), name=\"title\")\n",
        "text_body = keras.Input(shape=(vocabulary_size,), name=\"text_body\")\n",
        "tags = keras.Input(shape=(num_tags,), name=\"tags\")\n",
        "\n",
        "features = layers.Concatenate()([title, text_body, tags])\n",
        "features = layers.Dense(64, activation=\"relu\")(features)\n",
        "features = layers.Dense(36, activation=\"relu\")(features)\n",
        "features = layers.Dense(24, activation=\"relu\")(features)\n",
        "\n",
        "priority = layers.Dense(1, activation=\"sigmoid\", name=\"priority\")(features)\n",
        "department = layers.Dense(\n",
        "    num_departments, activation=\"softmax\", name=\"department\")(features)\n",
        "\n",
        "model = keras.Model(inputs=[title, text_body, tags], outputs=[priority, department])"
      ]
    },
    {
      "cell_type": "markdown",
      "metadata": {
        "id": "dysDg2J2s-YQ"
      },
      "source": [
        "#### Training a multi-input, multi-output model"
      ]
    },
    {
      "cell_type": "markdown",
      "metadata": {
        "id": "tdYBF8mws-YQ"
      },
      "source": [
        "**Training a model by providing lists of input & target arrays**"
      ]
    },
    {
      "cell_type": "code",
      "execution_count": 18,
      "metadata": {
        "id": "JbXO_bw8s-YQ",
        "outputId": "dcd36213-4765-40cb-cbbb-280fb0fc46cb",
        "colab": {
          "base_uri": "https://localhost:8080/"
        }
      },
      "outputs": [
        {
          "output_type": "stream",
          "name": "stdout",
          "text": [
            "40/40 [==============================] - 2s 25ms/step - loss: 35.6252 - priority_loss: 0.3239 - department_loss: 35.3013 - priority_mean_absolute_error: 0.4890 - department_accuracy: 0.2094\n",
            "40/40 [==============================] - 1s 10ms/step - loss: 37.3310 - priority_loss: 0.3272 - department_loss: 37.0038 - priority_mean_absolute_error: 0.4922 - department_accuracy: 0.1195\n",
            "40/40 [==============================] - 1s 13ms/step\n"
          ]
        }
      ],
      "source": [
        "import numpy as np\n",
        "\n",
        "num_samples = 1280\n",
        "\n",
        "title_data = np.random.randint(0, 2, size=(num_samples, vocabulary_size))\n",
        "text_body_data = np.random.randint(0, 2, size=(num_samples, vocabulary_size))\n",
        "tags_data = np.random.randint(0, 2, size=(num_samples, num_tags))\n",
        "\n",
        "priority_data = np.random.random(size=(num_samples, 1))\n",
        "department_data = np.random.randint(0, 2, size=(num_samples, num_departments))\n",
        "\n",
        "model.compile(optimizer=\"rmsprop\",\n",
        "              loss=[\"mean_squared_error\", \"categorical_crossentropy\"],\n",
        "              metrics=[[\"mean_absolute_error\"], [\"accuracy\"]])\n",
        "model.fit([title_data, text_body_data, tags_data],\n",
        "          [priority_data, department_data],\n",
        "          epochs=1)\n",
        "model.evaluate([title_data, text_body_data, tags_data],\n",
        "               [priority_data, department_data])\n",
        "priority_preds, department_preds = model.predict([title_data, text_body_data, tags_data])"
      ]
    },
    {
      "cell_type": "markdown",
      "metadata": {
        "id": "Npxhn1qDs-YQ"
      },
      "source": [
        "**Training a model by providing dicts of input & target arrays**"
      ]
    },
    {
      "cell_type": "code",
      "execution_count": 19,
      "metadata": {
        "id": "l8z6mO3Es-YQ",
        "outputId": "5100b028-4322-45c2-f836-a6e1cf2dcf67",
        "colab": {
          "base_uri": "https://localhost:8080/"
        }
      },
      "outputs": [
        {
          "output_type": "stream",
          "name": "stdout",
          "text": [
            "40/40 [==============================] - 2s 26ms/step - loss: 33.2068 - priority_loss: 0.3272 - department_loss: 32.8796 - priority_mean_absolute_error: 0.4922 - department_accuracy: 0.2539\n",
            "40/40 [==============================] - 1s 10ms/step - loss: 49.2422 - priority_loss: 0.3272 - department_loss: 48.9150 - priority_mean_absolute_error: 0.4922 - department_accuracy: 0.0820\n",
            "40/40 [==============================] - 0s 9ms/step\n"
          ]
        }
      ],
      "source": [
        "model.compile(optimizer=\"rmsprop\",\n",
        "              loss={\"priority\": \"mean_squared_error\", \"department\": \"categorical_crossentropy\"},\n",
        "              metrics={\"priority\": [\"mean_absolute_error\"], \"department\": [\"accuracy\"]})\n",
        "model.fit({\"title\": title_data, \"text_body\": text_body_data, \"tags\": tags_data},\n",
        "          {\"priority\": priority_data, \"department\": department_data},\n",
        "          epochs=1)\n",
        "model.evaluate({\"title\": title_data, \"text_body\": text_body_data, \"tags\": tags_data},\n",
        "               {\"priority\": priority_data, \"department\": department_data})\n",
        "priority_preds, department_preds = model.predict(\n",
        "    {\"title\": title_data, \"text_body\": text_body_data, \"tags\": tags_data})"
      ]
    },
    {
      "cell_type": "code",
      "source": [],
      "metadata": {
        "id": "nDEpzXrt5-K1"
      },
      "execution_count": null,
      "outputs": []
    },
    {
      "cell_type": "markdown",
      "metadata": {
        "id": "fV9fC2dcs-YQ"
      },
      "source": [
        "#### The power of the Functional API: Access to layer connectivity"
      ]
    },
    {
      "cell_type": "code",
      "execution_count": 22,
      "metadata": {
        "id": "_VB4-uNAs-YR",
        "outputId": "dafc471e-3593-4808-d4eb-862f5c60246e",
        "colab": {
          "base_uri": "https://localhost:8080/",
          "height": 564
        }
      },
      "outputs": [
        {
          "output_type": "execute_result",
          "data": {
            "image/png": "[encoded data removed]",
            "text/plain": [
              "<IPython.core.display.Image object>"
            ]
          },
          "metadata": {},
          "execution_count": 22
        }
      ],
      "source": [
        "keras.utils.plot_model(model, \"ticket_classifier.png\")"
      ]
    },
    {
      "cell_type": "code",
      "execution_count": 23,
      "metadata": {
        "id": "OwjJmFoLs-YR",
        "outputId": "2e7c6fe5-117a-4d2a-9458-1ff8d84a0666",
        "colab": {
          "base_uri": "https://localhost:8080/",
          "height": 644
        }
      },
      "outputs": [
        {
          "output_type": "execute_result",
          "data": {
            "image/png": "[encoded data removed]",
            "text/plain": [
              "<IPython.core.display.Image object>"
            ]
          },
          "metadata": {},
          "execution_count": 23
        }
      ],
      "source": [
        "keras.utils.plot_model(model, \"ticket_classifier_with_shape_info.png\", show_shapes=True)"
      ]
    },
    {
      "cell_type": "code",
      "source": [
        "model.compile(optimizer=\"rmsprop\",\n",
        "              loss={\"priority\": \"mean_squared_error\", \"department\": \"categorical_crossentropy\"},\n",
        "              metrics={\"priority\": [\"mean_absolute_error\"], \"department\": [\"accuracy\"]})\n",
        "model.fit({\"title\": title_data, \"text_body\": text_body_data, \"tags\": tags_data},\n",
        "          {\"priority\": priority_data, \"department\": department_data},\n",
        "          epochs=1)\n",
        "model.evaluate({\"title\": title_data, \"text_body\": text_body_data, \"tags\": tags_data},\n",
        "               {\"priority\": priority_data, \"department\": department_data})\n",
        "priority_preds, department_preds = model.predict(\n",
        "    {\"title\": title_data, \"text_body\": text_body_data, \"tags\": tags_data})"
      ],
      "metadata": {
        "id": "CzbP2TkA6A4p",
        "outputId": "b59500be-3836-489d-a171-d6d754574f3d",
        "colab": {
          "base_uri": "https://localhost:8080/"
        }
      },
      "execution_count": 27,
      "outputs": [
        {
          "output_type": "stream",
          "name": "stdout",
          "text": [
            "40/40 [==============================] - 3s 35ms/step - loss: 27.4190 - priority_loss: 0.2668 - department_loss: 27.1523 - priority_mean_absolute_error: 0.4320 - department_accuracy: 0.2070\n",
            "40/40 [==============================] - 1s 10ms/step - loss: 36.6991 - priority_loss: 0.3272 - department_loss: 36.3719 - priority_mean_absolute_error: 0.4922 - department_accuracy: 0.2453\n",
            "40/40 [==============================] - 1s 12ms/step\n"
          ]
        }
      ]
    },
    {
      "cell_type": "code",
      "source": [
        "features = model.layers[5].output\n",
        "difficulty = layers.Dense(3, activation=\"softmax\", name=\"difficulty\")(features)\n",
        "\n",
        "new_model = keras.Model(\n",
        "    inputs=[title, text_body, tags],\n",
        "    outputs=[priority, department, difficulty])"
      ],
      "metadata": {
        "id": "qutJCdZe7TGC"
      },
      "execution_count": 28,
      "outputs": []
    },
    {
      "cell_type": "code",
      "source": [
        "keras.utils.plot_model(new_model, \"ticket_classifier_with_shape_info.png\", show_shapes=True)"
      ],
      "metadata": {
        "id": "ZoyUx8mu7b5P",
        "outputId": "7be80605-73fd-4c32-d4a4-909c9999c476",
        "colab": {
          "base_uri": "https://localhost:8080/",
          "height": 644
        }
      },
      "execution_count": 30,
      "outputs": [
        {
          "output_type": "execute_result",
          "data": {
            "image/png": "[encoded data removed]",
            "text/plain": [
              "<IPython.core.display.Image object>"
            ]
          },
          "metadata": {},
          "execution_count": 30
        }
      ]
    },
    {
      "cell_type": "markdown",
      "metadata": {
        "id": "WBuEHT-Ms-YR"
      },
      "source": [
        "**Retrieving the inputs or outputs of a layer in a Functional model**"
      ]
    },
    {
      "cell_type": "code",
      "execution_count": 24,
      "metadata": {
        "id": "344k90E3s-YR",
        "outputId": "054fdf6a-ca5e-4a64-ea76-6da15ff2bbcd",
        "colab": {
          "base_uri": "https://localhost:8080/"
        }
      },
      "outputs": [
        {
          "output_type": "execute_result",
          "data": {
            "text/plain": [
              "[<keras.engine.input_layer.InputLayer at 0x7ff184a49ca0>,\n",
              " <keras.engine.input_layer.InputLayer at 0x7ff184a49c40>,\n",
              " <keras.engine.input_layer.InputLayer at 0x7ff184a49940>,\n",
              " <keras.layers.merging.concatenate.Concatenate at 0x7ff184a4a430>,\n",
              " <keras.layers.core.dense.Dense at 0x7ff184a48fd0>,\n",
              " <keras.layers.core.dense.Dense at 0x7ff184a48ee0>,\n",
              " <keras.layers.core.dense.Dense at 0x7ff18446fbb0>,\n",
              " <keras.layers.core.dense.Dense at 0x7ff184a4ca30>,\n",
              " <keras.layers.core.dense.Dense at 0x7ff184a4e460>]"
            ]
          },
          "metadata": {},
          "execution_count": 24
        }
      ],
      "source": [
        "model.layers"
      ]
    },
    {
      "cell_type": "code",
      "execution_count": 25,
      "metadata": {
        "id": "9FLIacp4s-YR",
        "outputId": "7378f66c-cdba-442e-e4e5-76918ebaacd9",
        "colab": {
          "base_uri": "https://localhost:8080/"
        }
      },
      "outputs": [
        {
          "output_type": "execute_result",
          "data": {
            "text/plain": [
              "[<KerasTensor: shape=(None, 10000) dtype=float32 (created by layer 'title')>,\n",
              " <KerasTensor: shape=(None, 10000) dtype=float32 (created by layer 'text_body')>,\n",
              " <KerasTensor: shape=(None, 100) dtype=float32 (created by layer 'tags')>]"
            ]
          },
          "metadata": {},
          "execution_count": 25
        }
      ],
      "source": [
        "model.layers[3].input"
      ]
    },
    {
      "cell_type": "code",
      "execution_count": 26,
      "metadata": {
        "id": "hvjtlcQns-YR",
        "outputId": "ea2cf6b9-5dc5-4881-81b6-c4c398c4e69e",
        "colab": {
          "base_uri": "https://localhost:8080/"
        }
      },
      "outputs": [
        {
          "output_type": "execute_result",
          "data": {
            "text/plain": [
              "<KerasTensor: shape=(None, 20100) dtype=float32 (created by layer 'concatenate_1')>"
            ]
          },
          "metadata": {},
          "execution_count": 26
        }
      ],
      "source": [
        "model.layers[3].output"
      ]
    },
    {
      "cell_type": "markdown",
      "metadata": {
        "id": "wD3oibrds-YR"
      },
      "source": [
        "**Creating a new model by reusing intermediate layer outputs**"
      ]
    },
    {
      "cell_type": "code",
      "execution_count": null,
      "metadata": {
        "id": "bdQXX7v5s-YS"
      },
      "outputs": [],
      "source": [
        "features = model.layers[4].output\n",
        "difficulty = layers.Dense(3, activation=\"softmax\", name=\"difficulty\")(features)\n",
        "\n",
        "new_model = keras.Model(\n",
        "    inputs=[title, text_body, tags],\n",
        "    outputs=[priority, department, difficulty])"
      ]
    },
    {
      "cell_type": "code",
      "execution_count": null,
      "metadata": {
        "id": "wphaMAm2s-YS"
      },
      "outputs": [],
      "source": [
        "keras.utils.plot_model(new_model, \"updated_ticket_classifier.png\", show_shapes=True)"
      ]
    },
    {
      "cell_type": "markdown",
      "metadata": {
        "id": "MvXAxEjfs-YS"
      },
      "source": [
        "### Subclassing the Model class"
      ]
    },
    {
      "cell_type": "markdown",
      "metadata": {
        "id": "kiul6Pp5s-YS"
      },
      "source": [
        "#### Rewriting our previous example as a subclassed model"
      ]
    },
    {
      "cell_type": "markdown",
      "metadata": {
        "id": "7vDIDajOs-YS"
      },
      "source": [
        "**A simple subclassed model**"
      ]
    },
    {
      "cell_type": "code",
      "execution_count": 31,
      "metadata": {
        "id": "3xPsuKtgs-YS"
      },
      "outputs": [],
      "source": [
        "class CustomerTicketModel(keras.Model):\n",
        "\n",
        "    def __init__(self, num_departments):\n",
        "        super().__init__()\n",
        "        self.concat_layer = layers.Concatenate()\n",
        "        self.mixing_layer = layers.Dense(64, activation=\"relu\")\n",
        "        self.priority_scorer = layers.Dense(1, activation=\"sigmoid\")\n",
        "        self.department_classifier = layers.Dense(\n",
        "            num_departments, activation=\"softmax\")\n",
        "\n",
        "    def call(self, inputs):\n",
        "        title = inputs[\"title\"]\n",
        "        text_body = inputs[\"text_body\"]\n",
        "        tags = inputs[\"tags\"]\n",
        "\n",
        "        features = self.concat_layer([title, text_body, tags])\n",
        "        features = self.mixing_layer(features)\n",
        "        priority = self.priority_scorer(features)\n",
        "        department = self.department_classifier(features)\n",
        "        return priority, department"
      ]
    },
    {
      "cell_type": "code",
      "execution_count": 32,
      "metadata": {
        "id": "LGbGSMR5s-YS"
      },
      "outputs": [],
      "source": [
        "model = CustomerTicketModel(num_departments=4)\n",
        "\n",
        "priority, department = model(\n",
        "    {\"title\": title_data, \"text_body\": text_body_data, \"tags\": tags_data})"
      ]
    },
    {
      "cell_type": "code",
      "execution_count": 33,
      "metadata": {
        "id": "12PQPUBWs-YT",
        "outputId": "e08980ae-8bb5-44e1-dbe7-60a6f859d00c",
        "colab": {
          "base_uri": "https://localhost:8080/"
        }
      },
      "outputs": [
        {
          "output_type": "stream",
          "name": "stdout",
          "text": [
            "40/40 [==============================] - 2s 23ms/step - loss: 17.1935 - output_1_loss: 0.3386 - output_2_loss: 16.8549 - output_1_mean_absolute_error: 0.5033 - output_2_accuracy: 0.3430\n",
            "40/40 [==============================] - 1s 10ms/step - loss: 10.2304 - output_1_loss: 0.3428 - output_2_loss: 9.8876 - output_1_mean_absolute_error: 0.5078 - output_2_accuracy: 0.0820\n",
            "40/40 [==============================] - 1s 11ms/step\n"
          ]
        }
      ],
      "source": [
        "model.compile(optimizer=\"rmsprop\",\n",
        "              loss=[\"mean_squared_error\", \"categorical_crossentropy\"],\n",
        "              metrics=[[\"mean_absolute_error\"], [\"accuracy\"]])\n",
        "model.fit({\"title\": title_data,\n",
        "           \"text_body\": text_body_data,\n",
        "           \"tags\": tags_data},\n",
        "          [priority_data, department_data],\n",
        "          epochs=1)\n",
        "model.evaluate({\"title\": title_data,\n",
        "                \"text_body\": text_body_data,\n",
        "                \"tags\": tags_data},\n",
        "               [priority_data, department_data])\n",
        "priority_preds, department_preds = model.predict({\"title\": title_data,\n",
        "                                                  \"text_body\": text_body_data,\n",
        "                                                  \"tags\": tags_data})"
      ]
    },
    {
      "cell_type": "markdown",
      "metadata": {
        "id": "DLdQBHIqs-YT"
      },
      "source": [
        "#### Beware: What subclassed models don't support"
      ]
    },
    {
      "cell_type": "markdown",
      "metadata": {
        "id": "khI-Axk4s-YT"
      },
      "source": [
        "### Mixing and matching different components"
      ]
    },
    {
      "cell_type": "markdown",
      "metadata": {
        "id": "lENFX3g6s-YT"
      },
      "source": [
        "**Creating a Functional model that includes a subclassed model**"
      ]
    },
    {
      "cell_type": "code",
      "execution_count": 34,
      "metadata": {
        "id": "l7O7AVGMs-YT"
      },
      "outputs": [],
      "source": [
        "class Classifier(keras.Model):\n",
        "\n",
        "    def __init__(self, num_classes=2):\n",
        "        super().__init__()\n",
        "        if num_classes == 2:\n",
        "            num_units = 1\n",
        "            activation = \"sigmoid\"\n",
        "        else:\n",
        "            num_units = num_classes\n",
        "            activation = \"softmax\"\n",
        "        self.dense = layers.Dense(num_units, activation=activation)\n",
        "\n",
        "    def call(self, inputs):\n",
        "        return self.dense(inputs)\n",
        "\n",
        "inputs = keras.Input(shape=(3,))\n",
        "features = layers.Dense(64, activation=\"relu\")(inputs)\n",
        "outputs = Classifier(num_classes=10)(features)\n",
        "model = keras.Model(inputs=inputs, outputs=outputs)"
      ]
    },
    {
      "cell_type": "markdown",
      "metadata": {
        "id": "11DBlJxfs-YT"
      },
      "source": [
        "**Creating a subclassed model that includes a Functional model**"
      ]
    },
    {
      "cell_type": "code",
      "execution_count": 35,
      "metadata": {
        "id": "vNvS95l4s-YT"
      },
      "outputs": [],
      "source": [
        "inputs = keras.Input(shape=(64,))\n",
        "outputs = layers.Dense(1, activation=\"sigmoid\")(inputs)\n",
        "binary_classifier = keras.Model(inputs=inputs, outputs=outputs)\n",
        "\n",
        "class MyModel(keras.Model):\n",
        "\n",
        "    def __init__(self, num_classes=2):\n",
        "        super().__init__()\n",
        "        self.dense = layers.Dense(64, activation=\"relu\")\n",
        "        self.classifier = binary_classifier\n",
        "\n",
        "    def call(self, inputs):\n",
        "        features = self.dense(inputs)\n",
        "        return self.classifier(features)\n",
        "\n",
        "model = MyModel()"
      ]
    },
    {
      "cell_type": "markdown",
      "metadata": {
        "id": "af2eOgJZs-YU"
      },
      "source": [
        "### Remember: Use the right tool for the job"
      ]
    },
    {
      "cell_type": "markdown",
      "metadata": {
        "id": "xgc3TMZPs-YU"
      },
      "source": [
        "## Using built-in training and evaluation loops"
      ]
    },
    {
      "cell_type": "markdown",
      "metadata": {
        "id": "10v-2lKIs-YU"
      },
      "source": [
        "**The standard workflow: `compile()`, `fit()`, `evaluate()`, `predict()`**"
      ]
    },
    {
      "cell_type": "code",
      "execution_count": 36,
      "metadata": {
        "id": "EMnCmXSCs-YU",
        "outputId": "00222968-0be3-4fac-9a15-20ac62c52853",
        "colab": {
          "base_uri": "https://localhost:8080/"
        }
      },
      "outputs": [
        {
          "output_type": "stream",
          "name": "stdout",
          "text": [
            "Downloading data from https://storage.googleapis.com/tensorflow/tf-keras-datasets/mnist.npz\n",
            "11490434/11490434 [==============================] - 1s 0us/step\n",
            "Epoch 1/3\n",
            "1563/1563 [==============================] - 15s 9ms/step - loss: 0.2908 - accuracy: 0.9134 - val_loss: 0.1493 - val_accuracy: 0.9556\n",
            "Epoch 2/3\n",
            "1563/1563 [==============================] - 16s 10ms/step - loss: 0.1586 - accuracy: 0.9535 - val_loss: 0.1097 - val_accuracy: 0.9699\n",
            "Epoch 3/3\n",
            "1563/1563 [==============================] - 14s 9ms/step - loss: 0.1270 - accuracy: 0.9640 - val_loss: 0.1037 - val_accuracy: 0.9735\n",
            "313/313 [==============================] - 1s 4ms/step - loss: 0.0927 - accuracy: 0.9729\n",
            "313/313 [==============================] - 1s 3ms/step\n"
          ]
        }
      ],
      "source": [
        "from tensorflow.keras.datasets import mnist\n",
        "\n",
        "def get_mnist_model():\n",
        "    inputs = keras.Input(shape=(28 * 28,))\n",
        "    features = layers.Dense(512, activation=\"relu\")(inputs)\n",
        "    features = layers.Dropout(0.5)(features)\n",
        "    outputs = layers.Dense(10, activation=\"softmax\")(features)\n",
        "    model = keras.Model(inputs, outputs)\n",
        "    return model\n",
        "\n",
        "(images, labels), (test_images, test_labels) = mnist.load_data()\n",
        "images = images.reshape((60000, 28 * 28)).astype(\"float32\") / 255\n",
        "test_images = test_images.reshape((10000, 28 * 28)).astype(\"float32\") / 255\n",
        "train_images, val_images = images[10000:], images[:10000]\n",
        "train_labels, val_labels = labels[10000:], labels[:10000]\n",
        "\n",
        "model = get_mnist_model()\n",
        "model.compile(optimizer=\"rmsprop\",\n",
        "              loss=\"sparse_categorical_crossentropy\",\n",
        "              metrics=[\"accuracy\"])\n",
        "model.fit(train_images, train_labels,\n",
        "          epochs=3,\n",
        "          validation_data=(val_images, val_labels))\n",
        "test_metrics = model.evaluate(test_images, test_labels)\n",
        "predictions = model.predict(test_images)"
      ]
    },
    {
      "cell_type": "markdown",
      "metadata": {
        "id": "mgYb42XZs-YU"
      },
      "source": [
        "### Writing your own metrics"
      ]
    },
    {
      "cell_type": "markdown",
      "metadata": {
        "id": "B0jiqTsNs-YV"
      },
      "source": [
        "**Implementing a custom metric by subclassing the `Metric` class**"
      ]
    },
    {
      "cell_type": "code",
      "execution_count": 40,
      "metadata": {
        "id": "DRBnIeWas-YV"
      },
      "outputs": [],
      "source": [
        "import tensorflow as tf\n",
        "\n",
        "class RootMeanSquaredError(keras.metrics.Metric):\n",
        "\n",
        "    def __init__(self, name=\"rmse\", **kwargs):\n",
        "        super().__init__(name=name, **kwargs)\n",
        "        self.mse_sum = self.add_weight(name=\"mse_sum\", initializer=\"zeros\")\n",
        "        self.total_samples = self.add_weight(\n",
        "            name=\"total_samples\", initializer=\"zeros\", dtype=\"int32\")\n",
        "\n",
        "    def update_state(self, y_true, y_pred, sample_weight=None):\n",
        "        y_true = tf.one_hot(y_true, depth=tf.shape(y_pred)[1])\n",
        "        mse = tf.reduce_sum(tf.square(y_true - y_pred))\n",
        "        self.mse_sum.assign_add(mse)\n",
        "        num_samples = tf.shape(y_pred)[0]\n",
        "        self.total_samples.assign_add(num_samples)\n",
        "\n",
        "    def result(self):\n",
        "        return tf.sqrt(self.mse_sum / tf.cast(self.total_samples, tf.float32))\n",
        "\n",
        "    def reset_state(self):\n",
        "        self.mse_sum.assign(0.)\n",
        "        self.total_samples.assign(0)"
      ]
    },
    {
      "cell_type": "code",
      "execution_count": 41,
      "metadata": {
        "id": "x-sTk62us-YV",
        "outputId": "a88d046f-fe9b-4fb3-924f-a3419de4a674",
        "colab": {
          "base_uri": "https://localhost:8080/"
        }
      },
      "outputs": [
        {
          "output_type": "stream",
          "name": "stdout",
          "text": [
            "Epoch 1/3\n",
            "1563/1563 [==============================] - 16s 10ms/step - loss: 0.2925 - accuracy: 0.9141 - rmse: 7.1797 - val_loss: 0.1451 - val_accuracy: 0.9590 - val_rmse: 7.3601\n",
            "Epoch 2/3\n",
            "1563/1563 [==============================] - 15s 10ms/step - loss: 0.1579 - accuracy: 0.9546 - rmse: 7.3508 - val_loss: 0.1093 - val_accuracy: 0.9706 - val_rmse: 7.4020\n",
            "Epoch 3/3\n",
            "1563/1563 [==============================] - 15s 10ms/step - loss: 0.1305 - accuracy: 0.9630 - rmse: 7.3839 - val_loss: 0.1007 - val_accuracy: 0.9732 - val_rmse: 7.4175\n",
            "313/313 [==============================] - 2s 5ms/step - loss: 0.0947 - accuracy: 0.9731 - rmse: 7.4307\n"
          ]
        }
      ],
      "source": [
        "model = get_mnist_model()\n",
        "model.compile(optimizer=\"rmsprop\",\n",
        "              loss=\"sparse_categorical_crossentropy\",\n",
        "              metrics=[\"accuracy\", RootMeanSquaredError()])\n",
        "model.fit(train_images, train_labels,\n",
        "          epochs=3,\n",
        "          validation_data=(val_images, val_labels))\n",
        "test_metrics = model.evaluate(test_images, test_labels)"
      ]
    },
    {
      "cell_type": "markdown",
      "metadata": {
        "id": "0LQHm0dds-YW"
      },
      "source": [
        "### Using callbacks"
      ]
    },
    {
      "cell_type": "markdown",
      "metadata": {
        "id": "ociQNW-1s-YW"
      },
      "source": [
        "#### The EarlyStopping and ModelCheckpoint callbacks"
      ]
    },
    {
      "cell_type": "markdown",
      "metadata": {
        "id": "nYeIUpK0s-YW"
      },
      "source": [
        "**Using the `callbacks` argument in the `fit()` method**"
      ]
    },
    {
      "cell_type": "code",
      "execution_count": 42,
      "metadata": {
        "id": "ldESe2cYs-YW",
        "outputId": "f361d8eb-e9db-4b5b-ff17-ea8c818a4f54",
        "colab": {
          "base_uri": "https://localhost:8080/"
        }
      },
      "outputs": [
        {
          "output_type": "stream",
          "name": "stdout",
          "text": [
            "Epoch 1/10\n",
            "1563/1563 [==============================] - 17s 11ms/step - loss: 0.2993 - accuracy: 0.9107 - val_loss: 0.1534 - val_accuracy: 0.9534\n",
            "Epoch 2/10\n",
            "1563/1563 [==============================] - 16s 10ms/step - loss: 0.1602 - accuracy: 0.9546 - val_loss: 0.1213 - val_accuracy: 0.9674\n",
            "Epoch 3/10\n",
            "1563/1563 [==============================] - 16s 10ms/step - loss: 0.1287 - accuracy: 0.9639 - val_loss: 0.1021 - val_accuracy: 0.9717\n",
            "Epoch 4/10\n",
            "1563/1563 [==============================] - 15s 10ms/step - loss: 0.1157 - accuracy: 0.9678 - val_loss: 0.0979 - val_accuracy: 0.9744\n",
            "Epoch 5/10\n",
            "1563/1563 [==============================] - 15s 10ms/step - loss: 0.1032 - accuracy: 0.9714 - val_loss: 0.0987 - val_accuracy: 0.9746\n",
            "Epoch 6/10\n",
            "1563/1563 [==============================] - 15s 10ms/step - loss: 0.0988 - accuracy: 0.9735 - val_loss: 0.0939 - val_accuracy: 0.9753\n",
            "Epoch 7/10\n",
            "1563/1563 [==============================] - 17s 11ms/step - loss: 0.0886 - accuracy: 0.9760 - val_loss: 0.0873 - val_accuracy: 0.9793\n",
            "Epoch 8/10\n",
            "1563/1563 [==============================] - 15s 9ms/step - loss: 0.0834 - accuracy: 0.9773 - val_loss: 0.0943 - val_accuracy: 0.9769\n",
            "Epoch 9/10\n",
            "1563/1563 [==============================] - 15s 10ms/step - loss: 0.0759 - accuracy: 0.9795 - val_loss: 0.0880 - val_accuracy: 0.9793\n"
          ]
        },
        {
          "output_type": "execute_result",
          "data": {
            "text/plain": [
              "<keras.callbacks.History at 0x7ff184900ee0>"
            ]
          },
          "metadata": {},
          "execution_count": 42
        }
      ],
      "source": [
        "callbacks_list = [\n",
        "    keras.callbacks.EarlyStopping(\n",
        "        monitor=\"val_accuracy\",\n",
        "        patience=2,\n",
        "    ),\n",
        "    keras.callbacks.ModelCheckpoint(\n",
        "        filepath=\"checkpoint_path.keras\",\n",
        "        monitor=\"val_loss\",\n",
        "        save_best_only=True,\n",
        "    )\n",
        "]\n",
        "model = get_mnist_model()\n",
        "model.compile(optimizer=\"rmsprop\",\n",
        "              loss=\"sparse_categorical_crossentropy\",\n",
        "              metrics=[\"accuracy\"])\n",
        "model.fit(train_images, train_labels,\n",
        "          epochs=10,\n",
        "          callbacks=callbacks_list,\n",
        "          validation_data=(val_images, val_labels))"
      ]
    },
    {
      "cell_type": "code",
      "execution_count": 43,
      "metadata": {
        "id": "6-F68htus-YW"
      },
      "outputs": [],
      "source": [
        "model = keras.models.load_model(\"checkpoint_path.keras\")"
      ]
    },
    {
      "cell_type": "markdown",
      "metadata": {
        "id": "hri33XJRs-YX"
      },
      "source": [
        "### Writing your own callbacks"
      ]
    },
    {
      "cell_type": "markdown",
      "metadata": {
        "id": "y49vKHJhs-YX"
      },
      "source": [
        "**Creating a custom callback by subclassing the `Callback` class**"
      ]
    },
    {
      "cell_type": "code",
      "execution_count": 44,
      "metadata": {
        "id": "Iu6_qOYis-YX"
      },
      "outputs": [],
      "source": [
        "from matplotlib import pyplot as plt\n",
        "\n",
        "class LossHistory(keras.callbacks.Callback):\n",
        "    def on_train_begin(self, logs):\n",
        "        self.per_batch_losses = []\n",
        "\n",
        "    def on_batch_end(self, batch, logs):\n",
        "        self.per_batch_losses.append(logs.get(\"loss\"))\n",
        "\n",
        "    def on_epoch_end(self, epoch, logs):\n",
        "        plt.clf()\n",
        "        plt.plot(range(len(self.per_batch_losses)), self.per_batch_losses,\n",
        "                 label=\"Training loss for each batch\")\n",
        "        plt.xlabel(f\"Batch (epoch {epoch})\")\n",
        "        plt.ylabel(\"Loss\")\n",
        "        plt.legend()\n",
        "        plt.savefig(f\"plot_at_epoch_{epoch}\")\n",
        "        self.per_batch_losses = []"
      ]
    },
    {
      "cell_type": "code",
      "execution_count": 45,
      "metadata": {
        "id": "phHXfk4qs-YX",
        "outputId": "0270eb73-5b70-4396-e290-77353b8dba4b",
        "colab": {
          "base_uri": "https://localhost:8080/",
          "height": 830
        }
      },
      "outputs": [
        {
          "output_type": "stream",
          "name": "stdout",
          "text": [
            "Epoch 1/10\n",
            "1563/1563 [==============================] - 16s 10ms/step - loss: 0.2912 - accuracy: 0.9137 - val_loss: 0.1609 - val_accuracy: 0.9525\n",
            "Epoch 2/10\n",
            "1563/1563 [==============================] - 15s 10ms/step - loss: 0.1594 - accuracy: 0.9545 - val_loss: 0.1142 - val_accuracy: 0.9682\n",
            "Epoch 3/10\n",
            "1563/1563 [==============================] - 16s 10ms/step - loss: 0.1306 - accuracy: 0.9634 - val_loss: 0.1122 - val_accuracy: 0.9707\n",
            "Epoch 4/10\n",
            "1563/1563 [==============================] - 15s 10ms/step - loss: 0.1140 - accuracy: 0.9686 - val_loss: 0.0989 - val_accuracy: 0.9741\n",
            "Epoch 5/10\n",
            "1563/1563 [==============================] - 16s 10ms/step - loss: 0.1006 - accuracy: 0.9715 - val_loss: 0.0914 - val_accuracy: 0.9768\n",
            "Epoch 6/10\n",
            "1563/1563 [==============================] - 15s 10ms/step - loss: 0.0949 - accuracy: 0.9755 - val_loss: 0.0905 - val_accuracy: 0.9769\n",
            "Epoch 7/10\n",
            "1563/1563 [==============================] - 14s 9ms/step - loss: 0.0879 - accuracy: 0.9763 - val_loss: 0.0876 - val_accuracy: 0.9782\n",
            "Epoch 8/10\n",
            "1563/1563 [==============================] - 16s 10ms/step - loss: 0.0814 - accuracy: 0.9777 - val_loss: 0.0980 - val_accuracy: 0.9778\n",
            "Epoch 9/10\n",
            "1563/1563 [==============================] - 15s 10ms/step - loss: 0.0761 - accuracy: 0.9792 - val_loss: 0.0925 - val_accuracy: 0.9798\n",
            "Epoch 10/10\n",
            "1563/1563 [==============================] - 15s 10ms/step - loss: 0.0746 - accuracy: 0.9802 - val_loss: 0.0949 - val_accuracy: 0.9796\n"
          ]
        },
        {
          "output_type": "execute_result",
          "data": {
            "text/plain": [
              "<keras.callbacks.History at 0x7ff184d073d0>"
            ]
          },
          "metadata": {},
          "execution_count": 45
        },
        {
          "output_type": "display_data",
          "data": {
            "text/plain": [
              "<Figure size 640x480 with 1 Axes>"
            ],
            "image/png": "[encoded data removed]"
          },
          "metadata": {}
        }
      ],
      "source": [
        "model = get_mnist_model()\n",
        "model.compile(optimizer=\"rmsprop\",\n",
        "              loss=\"sparse_categorical_crossentropy\",\n",
        "              metrics=[\"accuracy\"])\n",
        "model.fit(train_images, train_labels,\n",
        "          epochs=10,\n",
        "          callbacks=[LossHistory()],\n",
        "          validation_data=(val_images, val_labels))"
      ]
    },
    {
      "cell_type": "code",
      "source": [
        "from keras.callbacks import EarlyStopping, ModelCheckpoint\n",
        "\n",
        "# Define EarlyStopping callback\n",
        "early_stop = EarlyStopping(monitor='val_loss', patience=10)\n",
        "\n",
        "# Define ModelCheckpoint callback\n",
        "checkpoint = ModelCheckpoint(filepath='best_model.h5', \n",
        "                             monitor='val_accuracy', \n",
        "                             save_best_only=True)\n",
        "\n",
        "# Train the model and pass the callbacks as a list\n",
        "model.fit(X_train, y_train, \n",
        "          validation_data=(X_val, y_val),\n",
        "          epochs=100, \n",
        "          batch_size=32, \n",
        "          callbacks=[early_stop, checkpoint])"
      ],
      "metadata": {
        "id": "AkJjgUaYBWeS"
      },
      "execution_count": null,
      "outputs": []
    },
    {
      "cell_type": "markdown",
      "metadata": {
        "id": "K9NnqvXLs-YX"
      },
      "source": [
        "### Monitoring and visualization with TensorBoard"
      ]
    },
    {
      "cell_type": "code",
      "execution_count": 46,
      "metadata": {
        "id": "AbW60hfws-YX",
        "outputId": "58716323-388f-4d3d-f772-ecde5d472613",
        "colab": {
          "base_uri": "https://localhost:8080/"
        }
      },
      "outputs": [
        {
          "output_type": "stream",
          "name": "stdout",
          "text": [
            "Epoch 1/10\n",
            "1563/1563 [==============================] - 16s 10ms/step - loss: 0.2946 - accuracy: 0.9113 - val_loss: 0.1412 - val_accuracy: 0.9591\n",
            "Epoch 2/10\n",
            "1563/1563 [==============================] - 16s 10ms/step - loss: 0.1578 - accuracy: 0.9539 - val_loss: 0.1171 - val_accuracy: 0.9675\n",
            "Epoch 3/10\n",
            "1563/1563 [==============================] - 15s 10ms/step - loss: 0.1274 - accuracy: 0.9635 - val_loss: 0.1033 - val_accuracy: 0.9727\n",
            "Epoch 4/10\n",
            "1563/1563 [==============================] - 15s 10ms/step - loss: 0.1120 - accuracy: 0.9689 - val_loss: 0.0933 - val_accuracy: 0.9767\n",
            "Epoch 5/10\n",
            "1563/1563 [==============================] - 16s 10ms/step - loss: 0.0996 - accuracy: 0.9718 - val_loss: 0.0952 - val_accuracy: 0.9763\n",
            "Epoch 6/10\n",
            "1563/1563 [==============================] - 15s 10ms/step - loss: 0.0942 - accuracy: 0.9743 - val_loss: 0.0906 - val_accuracy: 0.9774\n",
            "Epoch 7/10\n",
            "1563/1563 [==============================] - 16s 10ms/step - loss: 0.0849 - accuracy: 0.9768 - val_loss: 0.0961 - val_accuracy: 0.9777\n",
            "Epoch 8/10\n",
            "1563/1563 [==============================] - 15s 10ms/step - loss: 0.0831 - accuracy: 0.9778 - val_loss: 0.0869 - val_accuracy: 0.9794\n",
            "Epoch 9/10\n",
            "1563/1563 [==============================] - 15s 10ms/step - loss: 0.0782 - accuracy: 0.9792 - val_loss: 0.0908 - val_accuracy: 0.9803\n",
            "Epoch 10/10\n",
            "1563/1563 [==============================] - 20s 13ms/step - loss: 0.0707 - accuracy: 0.9815 - val_loss: 0.0950 - val_accuracy: 0.9792\n"
          ]
        },
        {
          "output_type": "execute_result",
          "data": {
            "text/plain": [
              "<keras.callbacks.History at 0x7ff184660550>"
            ]
          },
          "metadata": {},
          "execution_count": 46
        }
      ],
      "source": [
        "model = get_mnist_model()\n",
        "model.compile(optimizer=\"rmsprop\",\n",
        "              loss=\"sparse_categorical_crossentropy\",\n",
        "              metrics=[\"accuracy\"])\n",
        "\n",
        "tensorboard = keras.callbacks.TensorBoard(\n",
        "    log_dir=\"/full_path_to_your_log_dir\",\n",
        ")\n",
        "model.fit(train_images, train_labels,\n",
        "          epochs=10,\n",
        "          validation_data=(val_images, val_labels),\n",
        "          callbacks=[tensorboard])"
      ]
    },
    {
      "cell_type": "code",
      "execution_count": null,
      "metadata": {
        "id": "bTmd-rAOs-YX"
      },
      "outputs": [],
      "source": [
        "%load_ext tensorboard\n",
        "%tensorboard --logdir /full_path_to_your_log_dir"
      ]
    },
    {
      "cell_type": "code",
      "source": [
        "from keras.callbacks import EarlyStopping, ModelCheckpoint\n",
        "\n",
        "# Define EarlyStopping callback\n",
        "early_stop = EarlyStopping(monitor='val_loss', patience=10)\n",
        "\n",
        "# Define ModelCheckpoint callback\n",
        "checkpoint = ModelCheckpoint(filepath='best_model.h5', \n",
        "                             monitor='val_accuracy', \n",
        "                             save_best_only=True)\n",
        "\n",
        "# Train the model and pass the callbacks as a list\n",
        "model.fit(X_train, y_train, \n",
        "          validation_data=(X_val, y_val),\n",
        "          epochs=100, \n",
        "          batch_size=32, \n",
        "          callbacks=[early_stop, checkpoint])"
      ],
      "metadata": {
        "id": "R5VBrV3XBLve",
        "outputId": "90b89b10-60af-4a91-d4f6-49293545568e",
        "colab": {
          "base_uri": "https://localhost:8080/",
          "height": 245
        }
      },
      "execution_count": 47,
      "outputs": [
        {
          "output_type": "error",
          "ename": "NameError",
          "evalue": "ignored",
          "traceback": [
            "\u001b[0;31m---------------------------------------------------------------------------\u001b[0m",
            "\u001b[0;31mNameError\u001b[0m                                 Traceback (most recent call last)",
            "\u001b[0;32m<ipython-input-47-3f87ebdf9874>\u001b[0m in \u001b[0;36m<cell line: 12>\u001b[0;34m()\u001b[0m\n\u001b[1;32m     10\u001b[0m \u001b[0;34m\u001b[0m\u001b[0m\n\u001b[1;32m     11\u001b[0m \u001b[0;31m# Train the model and pass the callbacks as a list\u001b[0m\u001b[0;34m\u001b[0m\u001b[0;34m\u001b[0m\u001b[0m\n\u001b[0;32m---> 12\u001b[0;31m model.fit(X_train, y_train, \n\u001b[0m\u001b[1;32m     13\u001b[0m           \u001b[0mvalidation_data\u001b[0m\u001b[0;34m=\u001b[0m\u001b[0;34m(\u001b[0m\u001b[0mX_val\u001b[0m\u001b[0;34m,\u001b[0m \u001b[0my_val\u001b[0m\u001b[0;34m)\u001b[0m\u001b[0;34m,\u001b[0m\u001b[0;34m\u001b[0m\u001b[0;34m\u001b[0m\u001b[0m\n\u001b[1;32m     14\u001b[0m           \u001b[0mepochs\u001b[0m\u001b[0;34m=\u001b[0m\u001b[0;36m100\u001b[0m\u001b[0;34m,\u001b[0m\u001b[0;34m\u001b[0m\u001b[0;34m\u001b[0m\u001b[0m\n",
            "\u001b[0;31mNameError\u001b[0m: name 'X_train' is not defined"
          ]
        }
      ]
    },
    {
      "cell_type": "markdown",
      "metadata": {
        "id": "SvNMki57s-YY"
      },
      "source": [
        "## Writing your own training and evaluation loops"
      ]
    },
    {
      "cell_type": "markdown",
      "metadata": {
        "id": "WjdDjUDjs-YY"
      },
      "source": [
        "### Training versus inference"
      ]
    },
    {
      "cell_type": "markdown",
      "metadata": {
        "id": "nUVDdk6ks-YY"
      },
      "source": [
        "### Low-level usage of metrics"
      ]
    },
    {
      "cell_type": "code",
      "execution_count": null,
      "metadata": {
        "id": "eS7-kgC7s-YY"
      },
      "outputs": [],
      "source": [
        "metric = keras.metrics.SparseCategoricalAccuracy()\n",
        "targets = [0, 1, 2]\n",
        "predictions = [[1, 0, 0], [0, 1, 0], [0, 0, 1]]\n",
        "metric.update_state(targets, predictions)\n",
        "current_result = metric.result()\n",
        "print(f\"result: {current_result:.2f}\")"
      ]
    },
    {
      "cell_type": "code",
      "execution_count": null,
      "metadata": {
        "id": "3BlxCteWs-YY"
      },
      "outputs": [],
      "source": [
        "values = [0, 1, 2, 3, 4]\n",
        "mean_tracker = keras.metrics.Mean()\n",
        "for value in values:\n",
        "    mean_tracker.update_state(value)\n",
        "print(f\"Mean of values: {mean_tracker.result():.2f}\")"
      ]
    },
    {
      "cell_type": "markdown",
      "metadata": {
        "id": "ukoT3B3rs-YZ"
      },
      "source": [
        "### A complete training and evaluation loop"
      ]
    },
    {
      "cell_type": "markdown",
      "metadata": {
        "id": "oOoZtHENs-YZ"
      },
      "source": [
        "**Writing a step-by-step training loop: the training step function**"
      ]
    },
    {
      "cell_type": "code",
      "execution_count": null,
      "metadata": {
        "id": "X-U6sDaXs-YZ"
      },
      "outputs": [],
      "source": [
        "model = get_mnist_model()\n",
        "\n",
        "loss_fn = keras.losses.SparseCategoricalCrossentropy()\n",
        "optimizer = keras.optimizers.RMSprop()\n",
        "metrics = [keras.metrics.SparseCategoricalAccuracy()]\n",
        "loss_tracking_metric = keras.metrics.Mean()\n",
        "\n",
        "def train_step(inputs, targets):\n",
        "    with tf.GradientTape() as tape:\n",
        "        predictions = model(inputs, training=True)\n",
        "        loss = loss_fn(targets, predictions)\n",
        "    gradients = tape.gradient(loss, model.trainable_weights)\n",
        "    optimizer.apply_gradients(zip(gradients, model.trainable_weights))\n",
        "\n",
        "    logs = {}\n",
        "    for metric in metrics:\n",
        "        metric.update_state(targets, predictions)\n",
        "        logs[metric.name] = metric.result()\n",
        "\n",
        "    loss_tracking_metric.update_state(loss)\n",
        "    logs[\"loss\"] = loss_tracking_metric.result()\n",
        "    return logs"
      ]
    },
    {
      "cell_type": "markdown",
      "metadata": {
        "id": "PNXHVqoUs-YZ"
      },
      "source": [
        "**Writing a step-by-step training loop: resetting the metrics**"
      ]
    },
    {
      "cell_type": "code",
      "execution_count": null,
      "metadata": {
        "id": "cuL0TuoSs-YZ"
      },
      "outputs": [],
      "source": [
        "def reset_metrics():\n",
        "    for metric in metrics:\n",
        "        metric.reset_state()\n",
        "    loss_tracking_metric.reset_state()"
      ]
    },
    {
      "cell_type": "markdown",
      "metadata": {
        "id": "WBT_7Erus-YZ"
      },
      "source": [
        "**Writing a step-by-step training loop: the loop itself**"
      ]
    },
    {
      "cell_type": "code",
      "execution_count": null,
      "metadata": {
        "id": "StDAJGIVs-Ya"
      },
      "outputs": [],
      "source": [
        "training_dataset = tf.data.Dataset.from_tensor_slices((train_images, train_labels))\n",
        "training_dataset = training_dataset.batch(32)\n",
        "epochs = 3\n",
        "for epoch in range(epochs):\n",
        "    reset_metrics()\n",
        "    for inputs_batch, targets_batch in training_dataset:\n",
        "        logs = train_step(inputs_batch, targets_batch)\n",
        "    print(f\"Results at the end of epoch {epoch}\")\n",
        "    for key, value in logs.items():\n",
        "        print(f\"...{key}: {value:.4f}\")"
      ]
    },
    {
      "cell_type": "markdown",
      "metadata": {
        "id": "OcqEQHlis-Ya"
      },
      "source": [
        "**Writing a step-by-step evaluation loop**"
      ]
    },
    {
      "cell_type": "code",
      "execution_count": null,
      "metadata": {
        "id": "cC-ELdKvs-Ya"
      },
      "outputs": [],
      "source": [
        "def test_step(inputs, targets):\n",
        "    predictions = model(inputs, training=False)\n",
        "    loss = loss_fn(targets, predictions)\n",
        "\n",
        "    logs = {}\n",
        "    for metric in metrics:\n",
        "        metric.update_state(targets, predictions)\n",
        "        logs[\"val_\" + metric.name] = metric.result()\n",
        "\n",
        "    loss_tracking_metric.update_state(loss)\n",
        "    logs[\"val_loss\"] = loss_tracking_metric.result()\n",
        "    return logs\n",
        "\n",
        "val_dataset = tf.data.Dataset.from_tensor_slices((val_images, val_labels))\n",
        "val_dataset = val_dataset.batch(32)\n",
        "reset_metrics()\n",
        "for inputs_batch, targets_batch in val_dataset:\n",
        "    logs = test_step(inputs_batch, targets_batch)\n",
        "print(\"Evaluation results:\")\n",
        "for key, value in logs.items():\n",
        "    print(f\"...{key}: {value:.4f}\")"
      ]
    },
    {
      "cell_type": "markdown",
      "source": [
        "practice"
      ],
      "metadata": {
        "id": "EUiAqojgDF_D"
      }
    },
    {
      "cell_type": "code",
      "source": [
        "from keras.callbacks import EarlyStopping, ModelCheckpoint\n",
        "\n",
        "# Define EarlyStopping callback\n",
        "early_stop = EarlyStopping(monitor='val_loss', patience=3)\n",
        "\n",
        "# Define ModelCheckpoint callback\n",
        "checkpoint = ModelCheckpoint(filepath='best_model.h5', \n",
        "                             monitor='val_accuracy', \n",
        "                             save_best_only=True)\n",
        "\n",
        "# Train the model and pass the callbacks as a list\n",
        "model.fit(train_images, train_labels, \n",
        "          validation_data=(val_images, val_labels),\n",
        "          epochs=10, \n",
        "          batch_size=32, \n",
        "          callbacks=[early_stop, checkpoint])"
      ],
      "metadata": {
        "id": "zYyyyqtJBr-o",
        "outputId": "60cb094c-98d4-4b05-ea57-1ca81fa5be9f",
        "colab": {
          "base_uri": "https://localhost:8080/"
        }
      },
      "execution_count": 51,
      "outputs": [
        {
          "output_type": "stream",
          "name": "stdout",
          "text": [
            "Epoch 1/10\n",
            "1563/1563 [==============================] - 16s 10ms/step - loss: 0.0474 - accuracy: 0.9871 - val_loss: 0.0946 - val_accuracy: 0.9826\n",
            "Epoch 2/10\n",
            "1563/1563 [==============================] - 34s 22ms/step - loss: 0.0446 - accuracy: 0.9881 - val_loss: 0.0981 - val_accuracy: 0.9832\n",
            "Epoch 3/10\n",
            "1563/1563 [==============================] - 15s 9ms/step - loss: 0.0417 - accuracy: 0.9881 - val_loss: 0.0963 - val_accuracy: 0.9829\n",
            "Epoch 4/10\n",
            "1563/1563 [==============================] - 15s 9ms/step - loss: 0.0406 - accuracy: 0.9878 - val_loss: 0.0957 - val_accuracy: 0.9832\n"
          ]
        },
        {
          "output_type": "execute_result",
          "data": {
            "text/plain": [
              "<keras.callbacks.History at 0x7ff15e316430>"
            ]
          },
          "metadata": {},
          "execution_count": 51
        }
      ]
    },
    {
      "cell_type": "markdown",
      "metadata": {
        "id": "CCXfgbKps-Ya"
      },
      "source": [
        "### Make it fast with tf.function"
      ]
    },
    {
      "cell_type": "markdown",
      "metadata": {
        "id": "uF64mQ4Qs-Ya"
      },
      "source": [
        "**Adding a `tf.function` decorator to our evaluation-step function**"
      ]
    },
    {
      "cell_type": "code",
      "execution_count": null,
      "metadata": {
        "id": "JK7zkn0Ws-Yb"
      },
      "outputs": [],
      "source": [
        "@tf.function\n",
        "def test_step(inputs, targets):\n",
        "    predictions = model(inputs, training=False)\n",
        "    loss = loss_fn(targets, predictions)\n",
        "\n",
        "    logs = {}\n",
        "    for metric in metrics:\n",
        "        metric.update_state(targets, predictions)\n",
        "        logs[\"val_\" + metric.name] = metric.result()\n",
        "\n",
        "    loss_tracking_metric.update_state(loss)\n",
        "    logs[\"val_loss\"] = loss_tracking_metric.result()\n",
        "    return logs\n",
        "\n",
        "val_dataset = tf.data.Dataset.from_tensor_slices((val_images, val_labels))\n",
        "val_dataset = val_dataset.batch(32)\n",
        "reset_metrics()\n",
        "for inputs_batch, targets_batch in val_dataset:\n",
        "    logs = test_step(inputs_batch, targets_batch)\n",
        "print(\"Evaluation results:\")\n",
        "for key, value in logs.items():\n",
        "    print(f\"...{key}: {value:.4f}\")"
      ]
    },
    {
      "cell_type": "markdown",
      "metadata": {
        "id": "737BCfwPs-Yb"
      },
      "source": [
        "### Leveraging fit() with a custom training loop"
      ]
    },
    {
      "cell_type": "markdown",
      "metadata": {
        "id": "V--jsh98s-Yb"
      },
      "source": [
        "**Implementing a custom training step to use with `fit()`**"
      ]
    },
    {
      "cell_type": "code",
      "execution_count": null,
      "metadata": {
        "id": "VEReIO_Gs-Yb"
      },
      "outputs": [],
      "source": [
        "loss_fn = keras.losses.SparseCategoricalCrossentropy()\n",
        "loss_tracker = keras.metrics.Mean(name=\"loss\")\n",
        "\n",
        "class CustomModel(keras.Model):\n",
        "    def train_step(self, data):\n",
        "        inputs, targets = data\n",
        "        with tf.GradientTape() as tape:\n",
        "            predictions = self(inputs, training=True)\n",
        "            loss = loss_fn(targets, predictions)\n",
        "        gradients = tape.gradient(loss, self.trainable_weights)\n",
        "        self.optimizer.apply_gradients(zip(gradients, self.trainable_weights))\n",
        "\n",
        "        loss_tracker.update_state(loss)\n",
        "        return {\"loss\": loss_tracker.result()}\n",
        "\n",
        "    @property\n",
        "    def metrics(self):\n",
        "        return [loss_tracker]"
      ]
    },
    {
      "cell_type": "code",
      "execution_count": null,
      "metadata": {
        "id": "2a5-mrfos-Yc"
      },
      "outputs": [],
      "source": [
        "inputs = keras.Input(shape=(28 * 28,))\n",
        "features = layers.Dense(512, activation=\"relu\")(inputs)\n",
        "features = layers.Dropout(0.5)(features)\n",
        "outputs = layers.Dense(10, activation=\"softmax\")(features)\n",
        "model = CustomModel(inputs, outputs)\n",
        "\n",
        "model.compile(optimizer=keras.optimizers.RMSprop())\n",
        "model.fit(train_images, train_labels, epochs=3)"
      ]
    },
    {
      "cell_type": "code",
      "execution_count": null,
      "metadata": {
        "id": "h2GDnkF7s-Yc"
      },
      "outputs": [],
      "source": [
        "class CustomModel(keras.Model):\n",
        "    def train_step(self, data):\n",
        "        inputs, targets = data\n",
        "        with tf.GradientTape() as tape:\n",
        "            predictions = self(inputs, training=True)\n",
        "            loss = self.compiled_loss(targets, predictions)\n",
        "        gradients = tape.gradient(loss, self.trainable_weights)\n",
        "        self.optimizer.apply_gradients(zip(gradients, self.trainable_weights))\n",
        "        self.compiled_metrics.update_state(targets, predictions)\n",
        "        return {m.name: m.result() for m in self.metrics}"
      ]
    },
    {
      "cell_type": "code",
      "execution_count": null,
      "metadata": {
        "id": "qtpYztlPs-Yc"
      },
      "outputs": [],
      "source": [
        "inputs = keras.Input(shape=(28 * 28,))\n",
        "features = layers.Dense(512, activation=\"relu\")(inputs)\n",
        "features = layers.Dropout(0.5)(features)\n",
        "outputs = layers.Dense(10, activation=\"softmax\")(features)\n",
        "model = CustomModel(inputs, outputs)\n",
        "\n",
        "model.compile(optimizer=keras.optimizers.RMSprop(),\n",
        "              loss=keras.losses.SparseCategoricalCrossentropy(),\n",
        "              metrics=[keras.metrics.SparseCategoricalAccuracy()])\n",
        "model.fit(train_images, train_labels, epochs=3)"
      ]
    },
    {
      "cell_type": "markdown",
      "metadata": {
        "id": "1CaW8_QKs-Yc"
      },
      "source": [
        "## Summary"
      ]
    }
  ],
  "metadata": {
    "colab": {
      "name": "chapter07_working-with-keras.i",
      "provenance": [],
      "toc_visible": true
    },
    "kernelspec": {
      "display_name": "Python 3",
      "language": "python",
      "name": "python3"
    },
    "language_info": {
      "codemirror_mode": {
        "name": "ipython",
        "version": 3
      },
      "file_extension": ".py",
      "mimetype": "text/x-python",
      "name": "python",
      "nbconvert_exporter": "python",
      "pygments_lexer": "ipython3",
      "version": "3.7.0"
    }
  },
  "nbformat": 4,
  "nbformat_minor": 0
}