{
  "nbformat": 4,
  "nbformat_minor": 0,
  "metadata": {
    "colab": {
      "provenance": [],
      "authorship_tag": "ABX9TyNneDbt9ahWoZJJjW5uVV+d",
      "include_colab_link": true
    },
    "kernelspec": {
      "name": "python3",
      "display_name": "Python 3"
    },
    "language_info": {
      "name": "python"
    }
  },
  "cells": [
    {
      "cell_type": "markdown",
      "metadata": {
        "id": "view-in-github",
        "colab_type": "text"
      },
      "source": [
        "<a href=\"https://colab.research.google.com/github/vanvlche/class_ai4dl/blob/main/Untitled0.ipynb\" target=\"_parent\"><img src=\"https://colab.research.google.com/assets/colab-badge.svg\" alt=\"Open In Colab\"/></a>"
      ]
    },
    {
      "cell_type": "code",
      "execution_count": null,
      "metadata": {
        "id": "-n5YNSK7tyhx"
      },
      "outputs": [],
      "source": []
    },
    {
      "cell_type": "markdown",
      "source": [
        "# title 1\n",
        "- list 1\n",
        "- list 2\n"
      ],
      "metadata": {
        "id": "NnL3-xW-t8Bt"
      }
    },
    {
      "cell_type": "code",
      "source": [],
      "metadata": {
        "id": "m818rdGsulyV"
      },
      "execution_count": null,
      "outputs": []
    }
  ]
}