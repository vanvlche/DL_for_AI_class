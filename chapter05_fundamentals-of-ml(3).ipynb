{
  "cells": [
    {
      "cell_type": "markdown",
      "metadata": {
        "id": "yncREITZMcX9"
      },
      "source": [
        "This is a companion notebook for the book [Deep Learning with Python, Second Edition](https://www.manning.com/books/deep-learning-with-python-second-edition?a_aid=keras&a_bid=76564dff). For readability, it only contains runnable code blocks and section titles, and omits everything else in the book: text paragraphs, figures, and pseudocode.\n",
        "\n",
        "**If you want to be able to follow what's going on, I recommend reading the notebook side by side with your copy of the book.**\n",
        "\n",
        "This notebook was generated for TensorFlow 2.6."
      ]
    },
    {
      "cell_type": "markdown",
      "metadata": {
        "id": "BFz4_kmnMcX_"
      },
      "source": [
        "# Fundamentals of machine learning"
      ]
    },
    {
      "cell_type": "markdown",
      "metadata": {
        "id": "QX9Lz3f0McYA"
      },
      "source": [
        "## Generalization: The goal of machine learning"
      ]
    },
    {
      "cell_type": "markdown",
      "metadata": {
        "id": "OffcybrNMcYA"
      },
      "source": [
        "### Underfitting and overfitting"
      ]
    },
    {
      "cell_type": "markdown",
      "metadata": {
        "id": "soODaT-HMcYA"
      },
      "source": [
        "#### Noisy training data"
      ]
    },
    {
      "cell_type": "markdown",
      "metadata": {
        "id": "dvaPIe3YMcYA"
      },
      "source": [
        "#### Ambiguous features"
      ]
    },
    {
      "cell_type": "markdown",
      "metadata": {
        "id": "fJvYaRHLMcYA"
      },
      "source": [
        "#### Rare features and spurious correlations"
      ]
    },
    {
      "cell_type": "markdown",
      "metadata": {
        "id": "DdFQWb4CMcYB"
      },
      "source": [
        "**Adding white-noise channels or all-zeros channels to MNIST**"
      ]
    },
    {
      "cell_type": "code",
      "execution_count": 10,
      "metadata": {
        "id": "SwZMXxSuMcYB"
      },
      "outputs": [],
      "source": [
        "from tensorflow.keras.datasets import mnist\n",
        "import numpy as np\n",
        "\n",
        "(train_images, train_labels), _ = mnist.load_data()\n",
        "train_images = train_images.reshape((60000, 28 * 28))\n",
        "train_images = train_images.astype(\"float32\") / 255\n",
        "\n",
        "train_images_with_noise_channels = np.concatenate(\n",
        "    [train_images, np.random.random((len(train_images), 784))], axis=1)\n",
        "\n",
        "train_images_with_zeros_channels = np.concatenate(\n",
        "    [train_images, np.zeros((len(train_images), 784))], axis=1)"
      ]
    },
    {
      "cell_type": "markdown",
      "metadata": {
        "id": "Cau1SCH4McYC"
      },
      "source": [
        "**Training the same model on MNIST data with noise channels or all-zero channels**"
      ]
    },
    {
      "cell_type": "code",
      "execution_count": 7,
      "metadata": {
        "id": "BHVOW9y2McYD",
        "outputId": "6390dd30-35a7-4b9e-c09a-55a16c740910",
        "colab": {
          "base_uri": "https://localhost:8080/"
        }
      },
      "outputs": [
        {
          "output_type": "stream",
          "name": "stdout",
          "text": [
            "Epoch 1/10\n",
            "375/375 [==============================] - 8s 20ms/step - loss: 0.6058 - accuracy: 0.8160 - val_loss: 0.3029 - val_accuracy: 0.9066\n",
            "Epoch 2/10\n",
            "375/375 [==============================] - 8s 22ms/step - loss: 0.2572 - accuracy: 0.9199 - val_loss: 0.1743 - val_accuracy: 0.9498\n",
            "Epoch 3/10\n",
            "375/375 [==============================] - 9s 23ms/step - loss: 0.1665 - accuracy: 0.9485 - val_loss: 0.1493 - val_accuracy: 0.9540\n",
            "Epoch 4/10\n",
            "375/375 [==============================] - 7s 19ms/step - loss: 0.1229 - accuracy: 0.9620 - val_loss: 0.2096 - val_accuracy: 0.9378\n",
            "Epoch 5/10\n",
            "375/375 [==============================] - 8s 22ms/step - loss: 0.0911 - accuracy: 0.9711 - val_loss: 0.1568 - val_accuracy: 0.9546\n",
            "Epoch 6/10\n",
            "375/375 [==============================] - 8s 21ms/step - loss: 0.0679 - accuracy: 0.9787 - val_loss: 0.1291 - val_accuracy: 0.9633\n",
            "Epoch 7/10\n",
            "375/375 [==============================] - 8s 21ms/step - loss: 0.0496 - accuracy: 0.9838 - val_loss: 0.1812 - val_accuracy: 0.9524\n",
            "Epoch 8/10\n",
            "375/375 [==============================] - 8s 22ms/step - loss: 0.0379 - accuracy: 0.9877 - val_loss: 0.1602 - val_accuracy: 0.9549\n",
            "Epoch 9/10\n",
            "375/375 [==============================] - 7s 19ms/step - loss: 0.0275 - accuracy: 0.9917 - val_loss: 0.1333 - val_accuracy: 0.9649\n",
            "Epoch 10/10\n",
            "375/375 [==============================] - 8s 22ms/step - loss: 0.0192 - accuracy: 0.9942 - val_loss: 0.1311 - val_accuracy: 0.9682\n",
            "Epoch 1/10\n",
            "375/375 [==============================] - 8s 22ms/step - loss: 0.0544 - accuracy: 0.9823 - val_loss: 0.0905 - val_accuracy: 0.9743\n",
            "Epoch 2/10\n",
            "375/375 [==============================] - 7s 19ms/step - loss: 0.0386 - accuracy: 0.9881 - val_loss: 0.0876 - val_accuracy: 0.9759\n",
            "Epoch 3/10\n",
            "375/375 [==============================] - 8s 22ms/step - loss: 0.0289 - accuracy: 0.9912 - val_loss: 0.0807 - val_accuracy: 0.9780\n",
            "Epoch 4/10\n",
            "375/375 [==============================] - 7s 19ms/step - loss: 0.0223 - accuracy: 0.9936 - val_loss: 0.0859 - val_accuracy: 0.9753\n",
            "Epoch 5/10\n",
            "375/375 [==============================] - 8s 22ms/step - loss: 0.0178 - accuracy: 0.9951 - val_loss: 0.0831 - val_accuracy: 0.9777\n",
            "Epoch 6/10\n",
            "375/375 [==============================] - 8s 21ms/step - loss: 0.0131 - accuracy: 0.9969 - val_loss: 0.0863 - val_accuracy: 0.9772\n",
            "Epoch 7/10\n",
            "375/375 [==============================] - 7s 20ms/step - loss: 0.0106 - accuracy: 0.9975 - val_loss: 0.0855 - val_accuracy: 0.9766\n",
            "Epoch 8/10\n",
            "375/375 [==============================] - 8s 22ms/step - loss: 0.0078 - accuracy: 0.9986 - val_loss: 0.0873 - val_accuracy: 0.9783\n",
            "Epoch 9/10\n",
            "375/375 [==============================] - 7s 19ms/step - loss: 0.0061 - accuracy: 0.9990 - val_loss: 0.0855 - val_accuracy: 0.9781\n",
            "Epoch 10/10\n",
            "375/375 [==============================] - 8s 21ms/step - loss: 0.0045 - accuracy: 0.9992 - val_loss: 0.0926 - val_accuracy: 0.9774\n",
            "Epoch 1/10\n",
            "375/375 [==============================] - 5s 12ms/step - loss: 0.2931 - accuracy: 0.9168 - val_loss: 0.1421 - val_accuracy: 0.9602\n",
            "Epoch 2/10\n",
            "375/375 [==============================] - 6s 15ms/step - loss: 0.1223 - accuracy: 0.9645 - val_loss: 0.1085 - val_accuracy: 0.9685\n",
            "Epoch 3/10\n",
            "375/375 [==============================] - 4s 11ms/step - loss: 0.0804 - accuracy: 0.9765 - val_loss: 0.0936 - val_accuracy: 0.9710\n",
            "Epoch 4/10\n",
            "375/375 [==============================] - 4s 12ms/step - loss: 0.0581 - accuracy: 0.9827 - val_loss: 0.0815 - val_accuracy: 0.9755\n",
            "Epoch 5/10\n",
            "375/375 [==============================] - 6s 15ms/step - loss: 0.0421 - accuracy: 0.9880 - val_loss: 0.0797 - val_accuracy: 0.9754\n",
            "Epoch 6/10\n",
            "375/375 [==============================] - 4s 12ms/step - loss: 0.0324 - accuracy: 0.9905 - val_loss: 0.0784 - val_accuracy: 0.9779\n",
            "Epoch 7/10\n",
            "375/375 [==============================] - 4s 12ms/step - loss: 0.0247 - accuracy: 0.9931 - val_loss: 0.0775 - val_accuracy: 0.9785\n",
            "Epoch 8/10\n",
            "375/375 [==============================] - 5s 13ms/step - loss: 0.0185 - accuracy: 0.9951 - val_loss: 0.0760 - val_accuracy: 0.9784\n",
            "Epoch 9/10\n",
            "375/375 [==============================] - 4s 11ms/step - loss: 0.0134 - accuracy: 0.9965 - val_loss: 0.0758 - val_accuracy: 0.9789\n",
            "Epoch 10/10\n",
            "375/375 [==============================] - 5s 12ms/step - loss: 0.0099 - accuracy: 0.9978 - val_loss: 0.0797 - val_accuracy: 0.9795\n"
          ]
        }
      ],
      "source": [
        "from tensorflow import keras\n",
        "from tensorflow.keras import layers\n",
        "\n",
        "def get_model():\n",
        "    model = keras.Sequential([\n",
        "        layers.Dense(512, activation=\"relu\"),\n",
        "        layers.Dense(10, activation=\"softmax\")\n",
        "    ])\n",
        "    model.compile(optimizer=\"rmsprop\",\n",
        "                  loss=\"sparse_categorical_crossentropy\",\n",
        "                  metrics=[\"accuracy\"])\n",
        "    return model\n",
        "\n",
        "model = get_model()\n",
        "history_noise = model.fit(\n",
        "    train_images_with_noise_channels, train_labels,\n",
        "    epochs=10,\n",
        "    batch_size=128,\n",
        "    validation_split=0.2)\n",
        "\n",
        "model2 = get_model()\n",
        "history_zeros = model.fit(\n",
        "    train_images_with_zeros_channels, train_labels,\n",
        "    epochs=10,\n",
        "    batch_size=128,\n",
        "    validation_split=0.2)\n",
        "\n",
        "model3 = get_model()\n",
        "history_orignal = model3.fit(\n",
        "    train_images, train_labels,\n",
        "    epochs=10,\n",
        "    batch_size=128,\n",
        "    validation_split=0.2)"
      ]
    },
    {
      "cell_type": "code",
      "source": [
        "val_acc_noise = history_noise.history[\"val_accuracy\"]\n",
        "val_acc_zeros = history_zeros.history[\"val_accuracy\"]"
      ],
      "metadata": {
        "id": "7b2tZKV6OXqd"
      },
      "execution_count": 3,
      "outputs": []
    },
    {
      "cell_type": "markdown",
      "metadata": {
        "id": "lghUWZftMcYE"
      },
      "source": [
        "**Plotting a validation accuracy comparison**"
      ]
    },
    {
      "cell_type": "code",
      "execution_count": 12,
      "metadata": {
        "id": "gPzjhvLyMcYE",
        "outputId": "bbc18f96-6d1f-4736-bd2c-6a0c099c4e5e",
        "colab": {
          "base_uri": "https://localhost:8080/",
          "height": 490
        }
      },
      "outputs": [
        {
          "output_type": "execute_result",
          "data": {
            "text/plain": [
              "<matplotlib.legend.Legend at 0x7fd97b6c6f40>"
            ]
          },
          "metadata": {},
          "execution_count": 12
        },
        {
          "output_type": "display_data",
          "data": {
            "text/plain": [
              "<Figure size 640x480 with 1 Axes>"
            ],
            "image/png": "[encoded data removed]"
          },
          "metadata": {}
        }
      ],
      "source": [
        "import matplotlib.pyplot as plt\n",
        "val_acc_noise = history_noise.history[\"val_accuracy\"]\n",
        "val_acc_zeros = history_zeros.history[\"val_accuracy\"]\n",
        "val_acc_original = history_orignal.history[\"val_accuracy\"]\n",
        "epochs = range(1, 11)\n",
        "plt.plot(epochs, val_acc_noise, \"b-\",\n",
        "         label=\"Validation accuracy with noise channels\")\n",
        "plt.plot(epochs, val_acc_zeros, \"b--\",\n",
        "         label=\"Validation accuracy with zeros channels\")\n",
        "plt.plot(epochs, val_acc_original, \"r--\",\n",
        "         label=\"Validation accuracy with original\")\n",
        "plt.title(\"Effect of noise channels on validation accuracy\")\n",
        "\n",
        "plt.xlabel(\"Epochs\")\n",
        "plt.ylabel(\"Accuracy\")\n",
        "plt.legend()"
      ]
    },
    {
      "cell_type": "markdown",
      "metadata": {
        "id": "nK3LLZ-8McYE"
      },
      "source": [
        "### The nature of generalization in deep learning"
      ]
    },
    {
      "cell_type": "markdown",
      "metadata": {
        "id": "A7qcoQPZMcYE"
      },
      "source": [
        "**Fitting a MNIST model with randomly shuffled labels**"
      ]
    },
    {
      "cell_type": "code",
      "execution_count": 13,
      "metadata": {
        "id": "p1CJXqZtMcYE",
        "outputId": "80344bf3-bf45-4848-cc52-7f5381631899",
        "colab": {
          "base_uri": "https://localhost:8080/"
        }
      },
      "outputs": [
        {
          "output_type": "stream",
          "name": "stdout",
          "text": [
            "Epoch 1/100\n",
            "375/375 [==============================] - 5s 12ms/step - loss: 2.3150 - accuracy: 0.1030 - val_loss: 2.3048 - val_accuracy: 0.1023\n",
            "Epoch 2/100\n",
            "375/375 [==============================] - 5s 14ms/step - loss: 2.2999 - accuracy: 0.1151 - val_loss: 2.3097 - val_accuracy: 0.1013\n",
            "Epoch 3/100\n",
            "375/375 [==============================] - 4s 11ms/step - loss: 2.2921 - accuracy: 0.1262 - val_loss: 2.3181 - val_accuracy: 0.1044\n",
            "Epoch 4/100\n",
            "375/375 [==============================] - 5s 13ms/step - loss: 2.2819 - accuracy: 0.1377 - val_loss: 2.3229 - val_accuracy: 0.1006\n",
            "Epoch 5/100\n",
            "375/375 [==============================] - 5s 14ms/step - loss: 2.2650 - accuracy: 0.1489 - val_loss: 2.3327 - val_accuracy: 0.1040\n",
            "Epoch 6/100\n",
            "375/375 [==============================] - 4s 12ms/step - loss: 2.2463 - accuracy: 0.1635 - val_loss: 2.3591 - val_accuracy: 0.1020\n",
            "Epoch 7/100\n",
            "375/375 [==============================] - 5s 14ms/step - loss: 2.2237 - accuracy: 0.1794 - val_loss: 2.3603 - val_accuracy: 0.1010\n",
            "Epoch 8/100\n",
            "375/375 [==============================] - 4s 11ms/step - loss: 2.1960 - accuracy: 0.1958 - val_loss: 2.3741 - val_accuracy: 0.1040\n",
            "Epoch 9/100\n",
            "375/375 [==============================] - 4s 12ms/step - loss: 2.1681 - accuracy: 0.2121 - val_loss: 2.3984 - val_accuracy: 0.1042\n",
            "Epoch 10/100\n",
            "375/375 [==============================] - 5s 14ms/step - loss: 2.1350 - accuracy: 0.2270 - val_loss: 2.4286 - val_accuracy: 0.1025\n",
            "Epoch 11/100\n",
            "375/375 [==============================] - 4s 11ms/step - loss: 2.1002 - accuracy: 0.2436 - val_loss: 2.4403 - val_accuracy: 0.1054\n",
            "Epoch 12/100\n",
            "375/375 [==============================] - 4s 11ms/step - loss: 2.0635 - accuracy: 0.2617 - val_loss: 2.4611 - val_accuracy: 0.1053\n",
            "Epoch 13/100\n",
            "375/375 [==============================] - 5s 14ms/step - loss: 2.0267 - accuracy: 0.2789 - val_loss: 2.4928 - val_accuracy: 0.1037\n",
            "Epoch 14/100\n",
            "375/375 [==============================] - 4s 11ms/step - loss: 1.9893 - accuracy: 0.2965 - val_loss: 2.5307 - val_accuracy: 0.0989\n",
            "Epoch 15/100\n",
            "375/375 [==============================] - 4s 11ms/step - loss: 1.9502 - accuracy: 0.3125 - val_loss: 2.5783 - val_accuracy: 0.1050\n",
            "Epoch 16/100\n",
            "375/375 [==============================] - 5s 14ms/step - loss: 1.9126 - accuracy: 0.3309 - val_loss: 2.5893 - val_accuracy: 0.1044\n",
            "Epoch 17/100\n",
            "375/375 [==============================] - 4s 11ms/step - loss: 1.8716 - accuracy: 0.3442 - val_loss: 2.6253 - val_accuracy: 0.1063\n",
            "Epoch 18/100\n",
            "375/375 [==============================] - 4s 11ms/step - loss: 1.8331 - accuracy: 0.3627 - val_loss: 2.6678 - val_accuracy: 0.1056\n",
            "Epoch 19/100\n",
            "375/375 [==============================] - 5s 14ms/step - loss: 1.7937 - accuracy: 0.3762 - val_loss: 2.7032 - val_accuracy: 0.1016\n",
            "Epoch 20/100\n",
            "375/375 [==============================] - 4s 11ms/step - loss: 1.7566 - accuracy: 0.3917 - val_loss: 2.7478 - val_accuracy: 0.1030\n",
            "Epoch 21/100\n",
            "375/375 [==============================] - 4s 11ms/step - loss: 1.7170 - accuracy: 0.4093 - val_loss: 2.7907 - val_accuracy: 0.1013\n",
            "Epoch 22/100\n",
            "375/375 [==============================] - 6s 15ms/step - loss: 1.6814 - accuracy: 0.4230 - val_loss: 2.8281 - val_accuracy: 0.1021\n",
            "Epoch 23/100\n",
            "375/375 [==============================] - 4s 11ms/step - loss: 1.6440 - accuracy: 0.4359 - val_loss: 2.8963 - val_accuracy: 0.1017\n",
            "Epoch 24/100\n",
            "375/375 [==============================] - 4s 11ms/step - loss: 1.6051 - accuracy: 0.4499 - val_loss: 2.9383 - val_accuracy: 0.0966\n",
            "Epoch 25/100\n",
            "375/375 [==============================] - 5s 14ms/step - loss: 1.5719 - accuracy: 0.4627 - val_loss: 2.9685 - val_accuracy: 0.0996\n",
            "Epoch 26/100\n",
            "375/375 [==============================] - 4s 11ms/step - loss: 1.5371 - accuracy: 0.4742 - val_loss: 3.0068 - val_accuracy: 0.1013\n",
            "Epoch 27/100\n",
            "375/375 [==============================] - 4s 12ms/step - loss: 1.5028 - accuracy: 0.4859 - val_loss: 3.0629 - val_accuracy: 0.0994\n",
            "Epoch 28/100\n",
            "375/375 [==============================] - 5s 13ms/step - loss: 1.4715 - accuracy: 0.4986 - val_loss: 3.1161 - val_accuracy: 0.1020\n",
            "Epoch 29/100\n",
            "375/375 [==============================] - 4s 11ms/step - loss: 1.4385 - accuracy: 0.5112 - val_loss: 3.1491 - val_accuracy: 0.1058\n",
            "Epoch 30/100\n",
            "375/375 [==============================] - 5s 14ms/step - loss: 1.4071 - accuracy: 0.5240 - val_loss: 3.2130 - val_accuracy: 0.1013\n",
            "Epoch 31/100\n",
            "375/375 [==============================] - 4s 12ms/step - loss: 1.3760 - accuracy: 0.5328 - val_loss: 3.2719 - val_accuracy: 0.1018\n",
            "Epoch 32/100\n",
            "375/375 [==============================] - 4s 11ms/step - loss: 1.3489 - accuracy: 0.5465 - val_loss: 3.3028 - val_accuracy: 0.1053\n",
            "Epoch 33/100\n",
            "375/375 [==============================] - 5s 14ms/step - loss: 1.3172 - accuracy: 0.5549 - val_loss: 3.3505 - val_accuracy: 0.1031\n",
            "Epoch 34/100\n",
            "375/375 [==============================] - 4s 11ms/step - loss: 1.2873 - accuracy: 0.5674 - val_loss: 3.4156 - val_accuracy: 0.1010\n",
            "Epoch 35/100\n",
            "375/375 [==============================] - 4s 11ms/step - loss: 1.2605 - accuracy: 0.5758 - val_loss: 3.4614 - val_accuracy: 0.1025\n",
            "Epoch 36/100\n",
            "375/375 [==============================] - 5s 14ms/step - loss: 1.2333 - accuracy: 0.5877 - val_loss: 3.5183 - val_accuracy: 0.1024\n",
            "Epoch 37/100\n",
            "375/375 [==============================] - 4s 11ms/step - loss: 1.2076 - accuracy: 0.5963 - val_loss: 3.5752 - val_accuracy: 0.1019\n",
            "Epoch 38/100\n",
            "375/375 [==============================] - 4s 11ms/step - loss: 1.1809 - accuracy: 0.6051 - val_loss: 3.6244 - val_accuracy: 0.1007\n",
            "Epoch 39/100\n",
            "375/375 [==============================] - 5s 14ms/step - loss: 1.1553 - accuracy: 0.6132 - val_loss: 3.6837 - val_accuracy: 0.1009\n",
            "Epoch 40/100\n",
            "375/375 [==============================] - 4s 11ms/step - loss: 1.1337 - accuracy: 0.6187 - val_loss: 3.7538 - val_accuracy: 0.1007\n",
            "Epoch 41/100\n",
            "375/375 [==============================] - 4s 12ms/step - loss: 1.1078 - accuracy: 0.6305 - val_loss: 3.8004 - val_accuracy: 0.0990\n",
            "Epoch 42/100\n",
            "375/375 [==============================] - 5s 14ms/step - loss: 1.0847 - accuracy: 0.6400 - val_loss: 3.8517 - val_accuracy: 0.0992\n",
            "Epoch 43/100\n",
            "375/375 [==============================] - 4s 11ms/step - loss: 1.0609 - accuracy: 0.6459 - val_loss: 3.9614 - val_accuracy: 0.1002\n",
            "Epoch 44/100\n",
            "375/375 [==============================] - 4s 11ms/step - loss: 1.0403 - accuracy: 0.6529 - val_loss: 3.9885 - val_accuracy: 0.1047\n",
            "Epoch 45/100\n",
            "375/375 [==============================] - 6s 15ms/step - loss: 1.0159 - accuracy: 0.6625 - val_loss: 4.0720 - val_accuracy: 0.1015\n",
            "Epoch 46/100\n",
            "375/375 [==============================] - 4s 12ms/step - loss: 0.9954 - accuracy: 0.6712 - val_loss: 4.1021 - val_accuracy: 0.1014\n",
            "Epoch 47/100\n",
            "375/375 [==============================] - 4s 12ms/step - loss: 0.9765 - accuracy: 0.6773 - val_loss: 4.1751 - val_accuracy: 0.0983\n",
            "Epoch 48/100\n",
            "375/375 [==============================] - 5s 13ms/step - loss: 0.9555 - accuracy: 0.6847 - val_loss: 4.2426 - val_accuracy: 0.1030\n",
            "Epoch 49/100\n",
            "375/375 [==============================] - 4s 12ms/step - loss: 0.9341 - accuracy: 0.6950 - val_loss: 4.3049 - val_accuracy: 0.1019\n",
            "Epoch 50/100\n",
            "375/375 [==============================] - 5s 12ms/step - loss: 0.9153 - accuracy: 0.6990 - val_loss: 4.3476 - val_accuracy: 0.1002\n",
            "Epoch 51/100\n",
            "375/375 [==============================] - 5s 12ms/step - loss: 0.8975 - accuracy: 0.7041 - val_loss: 4.4343 - val_accuracy: 0.1005\n",
            "Epoch 52/100\n",
            "375/375 [==============================] - 4s 11ms/step - loss: 0.8784 - accuracy: 0.7116 - val_loss: 4.4875 - val_accuracy: 0.0981\n",
            "Epoch 53/100\n",
            "375/375 [==============================] - 6s 15ms/step - loss: 0.8571 - accuracy: 0.7180 - val_loss: 4.5628 - val_accuracy: 0.1015\n",
            "Epoch 54/100\n",
            "375/375 [==============================] - 4s 11ms/step - loss: 0.8421 - accuracy: 0.7253 - val_loss: 4.6312 - val_accuracy: 0.1036\n",
            "Epoch 55/100\n",
            "375/375 [==============================] - 4s 12ms/step - loss: 0.8288 - accuracy: 0.7293 - val_loss: 4.6954 - val_accuracy: 0.1023\n",
            "Epoch 56/100\n",
            "375/375 [==============================] - 5s 14ms/step - loss: 0.8085 - accuracy: 0.7370 - val_loss: 4.7644 - val_accuracy: 0.1029\n",
            "Epoch 57/100\n",
            "375/375 [==============================] - 4s 11ms/step - loss: 0.7922 - accuracy: 0.7424 - val_loss: 4.8371 - val_accuracy: 0.0997\n",
            "Epoch 58/100\n",
            "375/375 [==============================] - 4s 11ms/step - loss: 0.7756 - accuracy: 0.7469 - val_loss: 4.8988 - val_accuracy: 0.0998\n",
            "Epoch 59/100\n",
            "375/375 [==============================] - 5s 14ms/step - loss: 0.7591 - accuracy: 0.7514 - val_loss: 4.9625 - val_accuracy: 0.1014\n",
            "Epoch 60/100\n",
            "375/375 [==============================] - 4s 11ms/step - loss: 0.7440 - accuracy: 0.7585 - val_loss: 5.0376 - val_accuracy: 0.1039\n",
            "Epoch 61/100\n",
            "375/375 [==============================] - 4s 12ms/step - loss: 0.7287 - accuracy: 0.7641 - val_loss: 5.1148 - val_accuracy: 0.1030\n",
            "Epoch 62/100\n",
            "375/375 [==============================] - 5s 14ms/step - loss: 0.7158 - accuracy: 0.7687 - val_loss: 5.1892 - val_accuracy: 0.1033\n",
            "Epoch 63/100\n",
            "375/375 [==============================] - 4s 11ms/step - loss: 0.7022 - accuracy: 0.7721 - val_loss: 5.2431 - val_accuracy: 0.1018\n",
            "Epoch 64/100\n",
            "375/375 [==============================] - 4s 11ms/step - loss: 0.6868 - accuracy: 0.7779 - val_loss: 5.3431 - val_accuracy: 0.1007\n",
            "Epoch 65/100\n",
            "375/375 [==============================] - 5s 14ms/step - loss: 0.6733 - accuracy: 0.7817 - val_loss: 5.4103 - val_accuracy: 0.1006\n",
            "Epoch 66/100\n",
            "375/375 [==============================] - 4s 11ms/step - loss: 0.6609 - accuracy: 0.7891 - val_loss: 5.4795 - val_accuracy: 0.1047\n",
            "Epoch 67/100\n",
            "375/375 [==============================] - 4s 12ms/step - loss: 0.6481 - accuracy: 0.7927 - val_loss: 5.5628 - val_accuracy: 0.1047\n",
            "Epoch 68/100\n",
            "375/375 [==============================] - 5s 14ms/step - loss: 0.6348 - accuracy: 0.7965 - val_loss: 5.5703 - val_accuracy: 0.1029\n",
            "Epoch 69/100\n",
            "375/375 [==============================] - 4s 11ms/step - loss: 0.6233 - accuracy: 0.7998 - val_loss: 5.7172 - val_accuracy: 0.1044\n",
            "Epoch 70/100\n",
            "375/375 [==============================] - 5s 12ms/step - loss: 0.6111 - accuracy: 0.8036 - val_loss: 5.7217 - val_accuracy: 0.1020\n",
            "Epoch 71/100\n",
            "375/375 [==============================] - 5s 13ms/step - loss: 0.5981 - accuracy: 0.8100 - val_loss: 5.8285 - val_accuracy: 0.1038\n",
            "Epoch 72/100\n",
            "375/375 [==============================] - 4s 11ms/step - loss: 0.5863 - accuracy: 0.8120 - val_loss: 5.9487 - val_accuracy: 0.1039\n",
            "Epoch 73/100\n",
            "375/375 [==============================] - 5s 13ms/step - loss: 0.5744 - accuracy: 0.8171 - val_loss: 5.9837 - val_accuracy: 0.1055\n",
            "Epoch 74/100\n",
            "375/375 [==============================] - 4s 12ms/step - loss: 0.5647 - accuracy: 0.8204 - val_loss: 6.0173 - val_accuracy: 0.1040\n",
            "Epoch 75/100\n",
            "375/375 [==============================] - 4s 11ms/step - loss: 0.5532 - accuracy: 0.8237 - val_loss: 6.0585 - val_accuracy: 0.1042\n",
            "Epoch 76/100\n",
            "375/375 [==============================] - 6s 16ms/step - loss: 0.5424 - accuracy: 0.8282 - val_loss: 6.1745 - val_accuracy: 0.1025\n",
            "Epoch 77/100\n",
            "375/375 [==============================] - 4s 11ms/step - loss: 0.5342 - accuracy: 0.8304 - val_loss: 6.2491 - val_accuracy: 0.1042\n",
            "Epoch 78/100\n",
            "375/375 [==============================] - 4s 11ms/step - loss: 0.5210 - accuracy: 0.8353 - val_loss: 6.3259 - val_accuracy: 0.1042\n",
            "Epoch 79/100\n",
            "375/375 [==============================] - 5s 14ms/step - loss: 0.5120 - accuracy: 0.8381 - val_loss: 6.3823 - val_accuracy: 0.1037\n",
            "Epoch 80/100\n",
            "375/375 [==============================] - 4s 12ms/step - loss: 0.5008 - accuracy: 0.8447 - val_loss: 6.4446 - val_accuracy: 0.1042\n",
            "Epoch 81/100\n",
            "375/375 [==============================] - 4s 11ms/step - loss: 0.4932 - accuracy: 0.8438 - val_loss: 6.5015 - val_accuracy: 0.1025\n",
            "Epoch 82/100\n",
            "375/375 [==============================] - 5s 14ms/step - loss: 0.4850 - accuracy: 0.8469 - val_loss: 6.5844 - val_accuracy: 0.1038\n",
            "Epoch 83/100\n",
            "375/375 [==============================] - 4s 11ms/step - loss: 0.4762 - accuracy: 0.8504 - val_loss: 6.6620 - val_accuracy: 0.1015\n",
            "Epoch 84/100\n",
            "375/375 [==============================] - 4s 11ms/step - loss: 0.4648 - accuracy: 0.8561 - val_loss: 6.7271 - val_accuracy: 0.1035\n",
            "Epoch 85/100\n",
            "375/375 [==============================] - 5s 14ms/step - loss: 0.4548 - accuracy: 0.8585 - val_loss: 6.8191 - val_accuracy: 0.1032\n",
            "Epoch 86/100\n",
            "375/375 [==============================] - 4s 11ms/step - loss: 0.4494 - accuracy: 0.8590 - val_loss: 6.8893 - val_accuracy: 0.1003\n",
            "Epoch 87/100\n",
            "375/375 [==============================] - 4s 12ms/step - loss: 0.4402 - accuracy: 0.8619 - val_loss: 6.9664 - val_accuracy: 0.1061\n",
            "Epoch 88/100\n",
            "375/375 [==============================] - 5s 14ms/step - loss: 0.4301 - accuracy: 0.8660 - val_loss: 7.0733 - val_accuracy: 0.1045\n",
            "Epoch 89/100\n",
            "375/375 [==============================] - 4s 11ms/step - loss: 0.4261 - accuracy: 0.8664 - val_loss: 7.0979 - val_accuracy: 0.1058\n",
            "Epoch 90/100\n",
            "375/375 [==============================] - 5s 12ms/step - loss: 0.4151 - accuracy: 0.8721 - val_loss: 7.2452 - val_accuracy: 0.1050\n",
            "Epoch 91/100\n",
            "375/375 [==============================] - 5s 13ms/step - loss: 0.4071 - accuracy: 0.8743 - val_loss: 7.3129 - val_accuracy: 0.1023\n",
            "Epoch 92/100\n",
            "375/375 [==============================] - 4s 11ms/step - loss: 0.4024 - accuracy: 0.8743 - val_loss: 7.3155 - val_accuracy: 0.1029\n",
            "Epoch 93/100\n",
            "375/375 [==============================] - 5s 13ms/step - loss: 0.3926 - accuracy: 0.8786 - val_loss: 7.3688 - val_accuracy: 0.1029\n",
            "Epoch 94/100\n",
            "375/375 [==============================] - 5s 13ms/step - loss: 0.3866 - accuracy: 0.8812 - val_loss: 7.4606 - val_accuracy: 0.1028\n",
            "Epoch 95/100\n",
            "375/375 [==============================] - 4s 11ms/step - loss: 0.3800 - accuracy: 0.8826 - val_loss: 7.5749 - val_accuracy: 0.1045\n",
            "Epoch 96/100\n",
            "375/375 [==============================] - 5s 14ms/step - loss: 0.3704 - accuracy: 0.8861 - val_loss: 7.5909 - val_accuracy: 0.1049\n",
            "Epoch 97/100\n",
            "375/375 [==============================] - 4s 12ms/step - loss: 0.3658 - accuracy: 0.8878 - val_loss: 7.7093 - val_accuracy: 0.1037\n",
            "Epoch 98/100\n",
            "375/375 [==============================] - 4s 11ms/step - loss: 0.3611 - accuracy: 0.8888 - val_loss: 7.8150 - val_accuracy: 0.1037\n",
            "Epoch 99/100\n",
            "375/375 [==============================] - 5s 14ms/step - loss: 0.3540 - accuracy: 0.8919 - val_loss: 7.8369 - val_accuracy: 0.1023\n",
            "Epoch 100/100\n",
            "375/375 [==============================] - 4s 11ms/step - loss: 0.3497 - accuracy: 0.8911 - val_loss: 7.8767 - val_accuracy: 0.1037\n"
          ]
        },
        {
          "output_type": "execute_result",
          "data": {
            "text/plain": [
              "<keras.callbacks.History at 0x7fd97b45e3a0>"
            ]
          },
          "metadata": {},
          "execution_count": 13
        }
      ],
      "source": [
        "(train_images, train_labels), _ = mnist.load_data()\n",
        "train_images = train_images.reshape((60000, 28 * 28))\n",
        "train_images = train_images.astype(\"float32\") / 255\n",
        "\n",
        "random_train_labels = train_labels[:]\n",
        "np.random.shuffle(random_train_labels)\n",
        "\n",
        "model = keras.Sequential([\n",
        "    layers.Dense(512, activation=\"relu\"),\n",
        "    layers.Dense(10, activation=\"softmax\")\n",
        "])\n",
        "model.compile(optimizer=\"rmsprop\",\n",
        "              loss=\"sparse_categorical_crossentropy\",\n",
        "              metrics=[\"accuracy\"])\n",
        "model.fit(train_images, random_train_labels,\n",
        "          epochs=100,\n",
        "          batch_size=128,\n",
        "          validation_split=0.2)"
      ]
    },
    {
      "cell_type": "code",
      "source": [
        "import matplotlib.pyplot as plt\n",
        "history_train = model.fit(\n",
        "    train_images, train_labels,\n",
        "    epochs=10,\n",
        "    batch_size=128,\n",
        "    validation_split=0.2)\n",
        "val_acc_train = history_train.history[\"val_accuracy\"]\n",
        "val_acc_noise = history_noise.history[\"accuracy\"]\n",
        "epochs = range(1, 11)\n",
        "plt.plot(epochs, val_acc_train, \"b-\",\n",
        "         label=\"Validation accuracy\")\n",
        "plt.plot(epochs, val_acc_noise, \"b-\",\n",
        "         label=\"Training accuracy\")\n",
        "plt.title(\"Train Vs Validation\")\n",
        "plt.xlabel(\"Epochs\")\n",
        "plt.ylabel(\"Accuracy\")\n",
        "plt.legend()"
      ],
      "metadata": {
        "id": "eIg_BH7ZbDH5",
        "outputId": "7ede53ac-3eb8-4310-f07b-ddd5527803ce",
        "colab": {
          "base_uri": "https://localhost:8080/",
          "height": 873
        }
      },
      "execution_count": 21,
      "outputs": [
        {
          "output_type": "stream",
          "name": "stdout",
          "text": [
            "Epoch 1/10\n",
            "375/375 [==============================] - 5s 13ms/step - loss: 0.5353 - accuracy: 0.8261 - val_loss: 0.2156 - val_accuracy: 0.9426\n",
            "Epoch 2/10\n",
            "375/375 [==============================] - 4s 11ms/step - loss: 0.1560 - accuracy: 0.9541 - val_loss: 0.1987 - val_accuracy: 0.9525\n",
            "Epoch 3/10\n",
            "375/375 [==============================] - 5s 14ms/step - loss: 0.1149 - accuracy: 0.9663 - val_loss: 0.1636 - val_accuracy: 0.9613\n",
            "Epoch 4/10\n",
            "375/375 [==============================] - 4s 11ms/step - loss: 0.0906 - accuracy: 0.9737 - val_loss: 0.1729 - val_accuracy: 0.9628\n",
            "Epoch 5/10\n",
            "375/375 [==============================] - 4s 11ms/step - loss: 0.0776 - accuracy: 0.9771 - val_loss: 0.1766 - val_accuracy: 0.9636\n",
            "Epoch 6/10\n",
            "375/375 [==============================] - 5s 15ms/step - loss: 0.0682 - accuracy: 0.9804 - val_loss: 0.1860 - val_accuracy: 0.9632\n",
            "Epoch 7/10\n",
            "375/375 [==============================] - 4s 11ms/step - loss: 0.0599 - accuracy: 0.9829 - val_loss: 0.1985 - val_accuracy: 0.9647\n",
            "Epoch 8/10\n",
            "375/375 [==============================] - 4s 11ms/step - loss: 0.0545 - accuracy: 0.9850 - val_loss: 0.2062 - val_accuracy: 0.9633\n",
            "Epoch 9/10\n",
            "375/375 [==============================] - 5s 15ms/step - loss: 0.0455 - accuracy: 0.9874 - val_loss: 0.2059 - val_accuracy: 0.9643\n",
            "Epoch 10/10\n",
            "375/375 [==============================] - 4s 11ms/step - loss: 0.0441 - accuracy: 0.9876 - val_loss: 0.2058 - val_accuracy: 0.9678\n"
          ]
        },
        {
          "output_type": "execute_result",
          "data": {
            "text/plain": [
              "<matplotlib.legend.Legend at 0x7fd9909928b0>"
            ]
          },
          "metadata": {},
          "execution_count": 21
        },
        {
          "output_type": "display_data",
          "data": {
            "text/plain": [
              "<Figure size 640x480 with 1 Axes>"
            ],
            "image/png": "[encoded data removed]"
          },
          "metadata": {}
        }
      ]
    },
    {
      "cell_type": "markdown",
      "metadata": {
        "id": "-HX0TstHMcYF"
      },
      "source": [
        "#### The manifold hypothesis"
      ]
    },
    {
      "cell_type": "markdown",
      "metadata": {
        "id": "1QqSD2iSMcYF"
      },
      "source": [
        "#### Interpolation as a source of generalization"
      ]
    },
    {
      "cell_type": "markdown",
      "metadata": {
        "id": "l32erpO7McYF"
      },
      "source": [
        "#### Why deep learning works"
      ]
    },
    {
      "cell_type": "markdown",
      "metadata": {
        "id": "k8u_SUcaMcYF"
      },
      "source": [
        "#### Training data is paramount"
      ]
    },
    {
      "cell_type": "markdown",
      "metadata": {
        "id": "cIXmrlACMcYF"
      },
      "source": [
        "## Evaluating machine-learning models"
      ]
    },
    {
      "cell_type": "markdown",
      "metadata": {
        "id": "RuuP5C8fMcYF"
      },
      "source": [
        "### Training, validation, and test sets"
      ]
    },
    {
      "cell_type": "markdown",
      "metadata": {
        "id": "qMg_AoaoMcYF"
      },
      "source": [
        "#### Simple hold-out validation"
      ]
    },
    {
      "cell_type": "markdown",
      "metadata": {
        "id": "FbEZHMyYMcYJ"
      },
      "source": [
        "#### K-fold validation"
      ]
    },
    {
      "cell_type": "markdown",
      "metadata": {
        "id": "mh-3PvlWMcYJ"
      },
      "source": [
        "#### Iterated K-fold validation with shuffling"
      ]
    },
    {
      "cell_type": "markdown",
      "metadata": {
        "id": "b0xloWx9McYJ"
      },
      "source": [
        "### Beating a common-sense baseline"
      ]
    },
    {
      "cell_type": "markdown",
      "metadata": {
        "id": "UCC3jNOOMcYJ"
      },
      "source": [
        "### Things to keep in mind about model evaluation"
      ]
    },
    {
      "cell_type": "markdown",
      "metadata": {
        "id": "QaR-AtyYMcYK"
      },
      "source": [
        "## Improving model fit"
      ]
    },
    {
      "cell_type": "markdown",
      "metadata": {
        "id": "ytEpEmtNMcYK"
      },
      "source": [
        "### Tuning key gradient descent parameters"
      ]
    },
    {
      "cell_type": "markdown",
      "metadata": {
        "id": "IxuSCBGsMcYK"
      },
      "source": [
        "**Training a MNIST model with an incorrectly high learning rate**"
      ]
    },
    {
      "cell_type": "code",
      "execution_count": 14,
      "metadata": {
        "id": "Rko3cKNYMcYK",
        "outputId": "2974508f-74f0-4159-b48a-8f2ca231c6cb",
        "colab": {
          "base_uri": "https://localhost:8080/"
        }
      },
      "outputs": [
        {
          "output_type": "stream",
          "name": "stdout",
          "text": [
            "Epoch 1/10\n",
            "375/375 [==============================] - 6s 15ms/step - loss: 832.7271 - accuracy: 0.3533 - val_loss: 2.8532 - val_accuracy: 0.2255\n",
            "Epoch 2/10\n",
            "375/375 [==============================] - 4s 11ms/step - loss: 2.6678 - accuracy: 0.2464 - val_loss: 2.0530 - val_accuracy: 0.2222\n",
            "Epoch 3/10\n",
            "375/375 [==============================] - 4s 11ms/step - loss: 2.5916 - accuracy: 0.2606 - val_loss: 2.0796 - val_accuracy: 0.2701\n",
            "Epoch 4/10\n",
            "375/375 [==============================] - 6s 15ms/step - loss: 2.7942 - accuracy: 0.2575 - val_loss: 2.0853 - val_accuracy: 0.2452\n",
            "Epoch 5/10\n",
            "375/375 [==============================] - 4s 11ms/step - loss: 2.3028 - accuracy: 0.2384 - val_loss: 1.9806 - val_accuracy: 0.2668\n",
            "Epoch 6/10\n",
            "375/375 [==============================] - 4s 11ms/step - loss: 2.4184 - accuracy: 0.2467 - val_loss: 2.0419 - val_accuracy: 0.2777\n",
            "Epoch 7/10\n",
            "375/375 [==============================] - 5s 14ms/step - loss: 2.2847 - accuracy: 0.2487 - val_loss: 2.1438 - val_accuracy: 0.2222\n",
            "Epoch 8/10\n",
            "375/375 [==============================] - 4s 11ms/step - loss: 2.3104 - accuracy: 0.2317 - val_loss: 2.1037 - val_accuracy: 0.2175\n",
            "Epoch 9/10\n",
            "375/375 [==============================] - 4s 12ms/step - loss: 2.2549 - accuracy: 0.2465 - val_loss: 2.1884 - val_accuracy: 0.2286\n",
            "Epoch 10/10\n",
            "375/375 [==============================] - 5s 13ms/step - loss: 2.1857 - accuracy: 0.2460 - val_loss: 2.0304 - val_accuracy: 0.2548\n"
          ]
        },
        {
          "output_type": "execute_result",
          "data": {
            "text/plain": [
              "<keras.callbacks.History at 0x7fd999108400>"
            ]
          },
          "metadata": {},
          "execution_count": 14
        }
      ],
      "source": [
        "(train_images, train_labels), _ = mnist.load_data()\n",
        "train_images = train_images.reshape((60000, 28 * 28))\n",
        "train_images = train_images.astype(\"float32\") / 255\n",
        "\n",
        "model = keras.Sequential([\n",
        "    layers.Dense(512, activation=\"relu\"),\n",
        "    layers.Dense(10, activation=\"softmax\")\n",
        "])\n",
        "model.compile(optimizer=keras.optimizers.RMSprop(1.),\n",
        "              loss=\"sparse_categorical_crossentropy\",\n",
        "              metrics=[\"accuracy\"])\n",
        "model.fit(train_images, train_labels,\n",
        "          epochs=10,\n",
        "          batch_size=128,\n",
        "          validation_split=0.2)"
      ]
    },
    {
      "cell_type": "markdown",
      "metadata": {
        "id": "U1l1X_5YMcYK"
      },
      "source": [
        "**The same model with a more appropriate learning rate**"
      ]
    },
    {
      "cell_type": "code",
      "execution_count": 15,
      "metadata": {
        "id": "b4iB4MgIMcYK",
        "outputId": "bdd8715d-57ca-4d3e-c078-35425a45d16a",
        "colab": {
          "base_uri": "https://localhost:8080/"
        }
      },
      "outputs": [
        {
          "output_type": "stream",
          "name": "stdout",
          "text": [
            "Epoch 1/10\n",
            "375/375 [==============================] - 6s 14ms/step - loss: 0.3336 - accuracy: 0.9127 - val_loss: 0.1362 - val_accuracy: 0.9613\n",
            "Epoch 2/10\n",
            "375/375 [==============================] - 4s 12ms/step - loss: 0.1272 - accuracy: 0.9641 - val_loss: 0.1404 - val_accuracy: 0.9630\n",
            "Epoch 3/10\n",
            "375/375 [==============================] - 4s 11ms/step - loss: 0.0972 - accuracy: 0.9741 - val_loss: 0.1486 - val_accuracy: 0.9666\n",
            "Epoch 4/10\n",
            "375/375 [==============================] - 5s 14ms/step - loss: 0.0854 - accuracy: 0.9784 - val_loss: 0.1704 - val_accuracy: 0.9666\n",
            "Epoch 5/10\n",
            "375/375 [==============================] - 4s 12ms/step - loss: 0.0711 - accuracy: 0.9827 - val_loss: 0.1931 - val_accuracy: 0.9673\n",
            "Epoch 6/10\n",
            "375/375 [==============================] - 4s 11ms/step - loss: 0.0624 - accuracy: 0.9851 - val_loss: 0.2511 - val_accuracy: 0.9600\n",
            "Epoch 7/10\n",
            "375/375 [==============================] - 5s 14ms/step - loss: 0.0528 - accuracy: 0.9872 - val_loss: 0.1790 - val_accuracy: 0.9737\n",
            "Epoch 8/10\n",
            "375/375 [==============================] - 4s 11ms/step - loss: 0.0492 - accuracy: 0.9886 - val_loss: 0.2024 - val_accuracy: 0.9734\n",
            "Epoch 9/10\n",
            "375/375 [==============================] - 4s 11ms/step - loss: 0.0421 - accuracy: 0.9899 - val_loss: 0.2231 - val_accuracy: 0.9713\n",
            "Epoch 10/10\n",
            "375/375 [==============================] - 5s 14ms/step - loss: 0.0396 - accuracy: 0.9910 - val_loss: 0.2456 - val_accuracy: 0.9713\n",
            "Epoch 1/20\n",
            "375/375 [==============================] - 4s 12ms/step - loss: 0.0415 - accuracy: 0.9909 - val_loss: 0.2301 - val_accuracy: 0.9732\n",
            "Epoch 2/20\n",
            "375/375 [==============================] - 5s 14ms/step - loss: 0.0312 - accuracy: 0.9925 - val_loss: 0.2809 - val_accuracy: 0.9719\n",
            "Epoch 3/20\n",
            "375/375 [==============================] - 4s 12ms/step - loss: 0.0300 - accuracy: 0.9937 - val_loss: 0.2815 - val_accuracy: 0.9740\n",
            "Epoch 4/20\n",
            "375/375 [==============================] - 4s 11ms/step - loss: 0.0297 - accuracy: 0.9940 - val_loss: 0.2700 - val_accuracy: 0.9752\n",
            "Epoch 5/20\n",
            "375/375 [==============================] - 5s 14ms/step - loss: 0.0269 - accuracy: 0.9943 - val_loss: 0.2366 - val_accuracy: 0.9762\n",
            "Epoch 6/20\n",
            "375/375 [==============================] - 4s 11ms/step - loss: 0.0221 - accuracy: 0.9948 - val_loss: 0.2870 - val_accuracy: 0.9748\n",
            "Epoch 7/20\n",
            "375/375 [==============================] - 4s 11ms/step - loss: 0.0220 - accuracy: 0.9951 - val_loss: 0.2695 - val_accuracy: 0.9759\n",
            "Epoch 8/20\n",
            "375/375 [==============================] - 5s 14ms/step - loss: 0.0201 - accuracy: 0.9959 - val_loss: 0.3263 - val_accuracy: 0.9709\n",
            "Epoch 9/20\n",
            "375/375 [==============================] - 4s 12ms/step - loss: 0.0223 - accuracy: 0.9957 - val_loss: 0.2885 - val_accuracy: 0.9762\n",
            "Epoch 10/20\n",
            "375/375 [==============================] - 4s 11ms/step - loss: 0.0198 - accuracy: 0.9959 - val_loss: 0.2845 - val_accuracy: 0.9777\n",
            "Epoch 11/20\n",
            "375/375 [==============================] - 5s 14ms/step - loss: 0.0166 - accuracy: 0.9965 - val_loss: 0.3176 - val_accuracy: 0.9765\n",
            "Epoch 12/20\n",
            "375/375 [==============================] - 4s 11ms/step - loss: 0.0124 - accuracy: 0.9972 - val_loss: 0.3339 - val_accuracy: 0.9775\n",
            "Epoch 13/20\n",
            "375/375 [==============================] - 4s 12ms/step - loss: 0.0167 - accuracy: 0.9964 - val_loss: 0.3185 - val_accuracy: 0.9767\n",
            "Epoch 14/20\n",
            "375/375 [==============================] - 5s 14ms/step - loss: 0.0166 - accuracy: 0.9969 - val_loss: 0.2987 - val_accuracy: 0.9782\n",
            "Epoch 15/20\n",
            "375/375 [==============================] - 4s 11ms/step - loss: 0.0135 - accuracy: 0.9973 - val_loss: 0.3336 - val_accuracy: 0.9774\n",
            "Epoch 16/20\n",
            "375/375 [==============================] - 4s 12ms/step - loss: 0.0079 - accuracy: 0.9982 - val_loss: 0.3415 - val_accuracy: 0.9783\n",
            "Epoch 17/20\n",
            "375/375 [==============================] - 5s 14ms/step - loss: 0.0075 - accuracy: 0.9983 - val_loss: 0.3358 - val_accuracy: 0.9773\n",
            "Epoch 18/20\n",
            "375/375 [==============================] - 4s 12ms/step - loss: 0.0114 - accuracy: 0.9981 - val_loss: 0.3614 - val_accuracy: 0.9783\n",
            "Epoch 19/20\n",
            "375/375 [==============================] - 5s 13ms/step - loss: 0.0100 - accuracy: 0.9977 - val_loss: 0.3471 - val_accuracy: 0.9755\n",
            "Epoch 20/20\n",
            "375/375 [==============================] - 5s 13ms/step - loss: 0.0088 - accuracy: 0.9980 - val_loss: 0.3737 - val_accuracy: 0.9766\n"
          ]
        }
      ],
      "source": [
        "model = keras.Sequential([\n",
        "    layers.Dense(512, activation=\"relu\"),\n",
        "    layers.Dense(10, activation=\"softmax\")\n",
        "])\n",
        "model.compile(optimizer=keras.optimizers.RMSprop(1e-2),\n",
        "              loss=\"sparse_categorical_crossentropy\",\n",
        "              metrics=[\"accuracy\"])\n",
        "model.fit(train_images, train_labels,\n",
        "          epochs=10,\n",
        "          batch_size=128,\n",
        "          validation_split=0.2)\n",
        "histoy_model = model.fit(\n",
        "    train_images, train_labels,\n",
        "    epochs=20,\n",
        "    batch_size=128,\n",
        "    validation_split=0.2\n",
        ")"
      ]
    },
    {
      "cell_type": "code",
      "source": [
        "epochs = range(1, 6)\n",
        "model_history=model.fit(train_images, random_train_labels,\n",
        "          epochs=5,\n",
        "          batch_size=128,\n",
        "          validation_split=0.2)\n",
        "train_acc_original =model_history.history[\"accuracy\"]\n",
        "val_acc_original =model_history.history[\"val_accuracy\"]\n",
        "\n",
        "plt.plot(epochs, train_acc_original, \"r-\",\n",
        "         label=\"Training accuracy \")\n",
        "plt.plot(epochs, val_acc_original, \"b-\",\n",
        "         label=\"Validation accuracy \")"
      ],
      "metadata": {
        "id": "714f2h7RY4AL",
        "outputId": "8bcb32d1-d5ea-4ae3-c5b4-c9bff1370b6b",
        "colab": {
          "base_uri": "https://localhost:8080/",
          "height": 652
        }
      },
      "execution_count": 19,
      "outputs": [
        {
          "output_type": "stream",
          "name": "stdout",
          "text": [
            "Epoch 1/5\n",
            "375/375 [==============================] - 5s 14ms/step - loss: 2.2900 - accuracy: 0.1188 - val_loss: 2.3152 - val_accuracy: 0.1115\n",
            "Epoch 2/5\n",
            "375/375 [==============================] - 4s 11ms/step - loss: 2.2871 - accuracy: 0.1183 - val_loss: 2.3173 - val_accuracy: 0.1112\n",
            "Epoch 3/5\n",
            "375/375 [==============================] - 4s 11ms/step - loss: 2.2831 - accuracy: 0.1186 - val_loss: 2.3170 - val_accuracy: 0.1105\n",
            "Epoch 4/5\n",
            "375/375 [==============================] - 5s 14ms/step - loss: 2.2806 - accuracy: 0.1204 - val_loss: 2.3249 - val_accuracy: 0.1112\n",
            "Epoch 5/5\n",
            "375/375 [==============================] - 4s 12ms/step - loss: 2.2777 - accuracy: 0.1215 - val_loss: 2.3288 - val_accuracy: 0.1107\n"
          ]
        },
        {
          "output_type": "execute_result",
          "data": {
            "text/plain": [
              "[<matplotlib.lines.Line2D at 0x7fd99c850d90>]"
            ]
          },
          "metadata": {},
          "execution_count": 19
        },
        {
          "output_type": "display_data",
          "data": {
            "text/plain": [
              "<Figure size 640x480 with 1 Axes>"
            ],
            "image/png": "[encoded data removed]"
          },
          "metadata": {}
        }
      ]
    },
    {
      "cell_type": "markdown",
      "metadata": {
        "id": "k6TTU4vHMcYK"
      },
      "source": [
        "### Leveraging better architecture priors"
      ]
    },
    {
      "cell_type": "markdown",
      "metadata": {
        "id": "WeUnRqMlMcYL"
      },
      "source": [
        "### Increasing model capacity"
      ]
    },
    {
      "cell_type": "markdown",
      "metadata": {
        "id": "6aOgH3USMcYL"
      },
      "source": [
        "**A simple logistic regression on MNIST**"
      ]
    },
    {
      "cell_type": "code",
      "execution_count": 36,
      "metadata": {
        "id": "n8dG0bLCMcYL",
        "outputId": "bda28b44-3348-455c-92c4-33d6207fdaf1",
        "colab": {
          "base_uri": "https://localhost:8080/",
          "height": 136
        }
      },
      "outputs": [
        {
          "output_type": "error",
          "ename": "SyntaxError",
          "evalue": "ignored",
          "traceback": [
            "\u001b[0;36m  File \u001b[0;32m\"<ipython-input-36-c7a1c88a528f>\"\u001b[0;36m, line \u001b[0;32m8\u001b[0m\n\u001b[0;31m    batch_size=128,\u001b[0m\n\u001b[0m                   ^\u001b[0m\n\u001b[0;31mSyntaxError\u001b[0m\u001b[0;31m:\u001b[0m unexpected EOF while parsing\n"
          ]
        }
      ],
      "source": [
        "model = keras.Sequential([layers.Dense(10, activation=\"softmax\")])\n",
        "model.compile(optimizer=\"rmsprop\",\n",
        "              loss=\"sparse_categorical_crossentropy\",\n",
        "              metrics=[\"accuracy\"])\n",
        "history_small_model = model.fit(\n",
        "    train_images, train_labels,\n",
        "    epochs=20,\n",
        "    batch_size=128,"
      ]
    },
    {
      "cell_type": "code",
      "execution_count": 37,
      "metadata": {
        "id": "75qurBQhMcYL",
        "outputId": "17a76769-b2d8-4940-971c-8272e9aa30f6",
        "colab": {
          "base_uri": "https://localhost:8080/",
          "height": 245
        }
      },
      "outputs": [
        {
          "output_type": "error",
          "ename": "NameError",
          "evalue": "ignored",
          "traceback": [
            "\u001b[0;31m---------------------------------------------------------------------------\u001b[0m",
            "\u001b[0;31mNameError\u001b[0m                                 Traceback (most recent call last)",
            "\u001b[0;32m<ipython-input-37-04be1a95bfc1>\u001b[0m in \u001b[0;36m<cell line: 2>\u001b[0;34m()\u001b[0m\n\u001b[1;32m      1\u001b[0m \u001b[0;32mimport\u001b[0m \u001b[0mmatplotlib\u001b[0m\u001b[0;34m.\u001b[0m\u001b[0mpyplot\u001b[0m \u001b[0;32mas\u001b[0m \u001b[0mplt\u001b[0m\u001b[0;34m\u001b[0m\u001b[0;34m\u001b[0m\u001b[0m\n\u001b[0;32m----> 2\u001b[0;31m \u001b[0mval_loss\u001b[0m \u001b[0;34m=\u001b[0m \u001b[0mhistory_small_model\u001b[0m\u001b[0;34m.\u001b[0m\u001b[0mhistory\u001b[0m\u001b[0;34m[\u001b[0m\u001b[0;34m\"val_loss\"\u001b[0m\u001b[0;34m]\u001b[0m\u001b[0;34m\u001b[0m\u001b[0;34m\u001b[0m\u001b[0m\n\u001b[0m\u001b[1;32m      3\u001b[0m \u001b[0mepochs\u001b[0m \u001b[0;34m=\u001b[0m \u001b[0mrange\u001b[0m\u001b[0;34m(\u001b[0m\u001b[0;36m1\u001b[0m\u001b[0;34m,\u001b[0m \u001b[0;36m21\u001b[0m\u001b[0;34m)\u001b[0m\u001b[0;34m\u001b[0m\u001b[0;34m\u001b[0m\u001b[0m\n\u001b[1;32m      4\u001b[0m plt.plot(epochs, val_loss, \"b--\",\n\u001b[1;32m      5\u001b[0m          label=\"Validation loss\")\n",
            "\u001b[0;31mNameError\u001b[0m: name 'history_small_model' is not defined"
          ]
        }
      ],
      "source": [
        "import matplotlib.pyplot as plt\n",
        "val_loss = history_small_model.history[\"val_loss\"]\n",
        "epochs = range(1, 21)\n",
        "plt.plot(epochs, val_loss, \"b--\",\n",
        "         label=\"Validation loss\")\n",
        "plt.title(\"Effect of insufficient model capacity on validation loss\")\n",
        "plt.xlabel(\"Epochs\")\n",
        "plt.ylabel(\"Loss\")\n",
        "plt.legend()"
      ]
    },
    {
      "cell_type": "code",
      "execution_count": null,
      "metadata": {
        "id": "NePoeg8-McYL"
      },
      "outputs": [],
      "source": [
        "model = keras.Sequential([\n",
        "    layers.Dense(96, activation=\"relu\"),\n",
        "    layers.Dense(96, activation=\"relu\"),\n",
        "    layers.Dense(10, activation=\"softmax\"),\n",
        "])\n",
        "model.compile(optimizer=\"rmsprop\",\n",
        "              loss=\"sparse_categorical_crossentropy\",\n",
        "              metrics=[\"accuracy\"])\n",
        "history_large_model = model.fit(\n",
        "    train_images, train_labels,\n",
        "    epochs=20,\n",
        "    batch_size=128,\n",
        "    validation_split=0.2)"
      ]
    },
    {
      "cell_type": "markdown",
      "metadata": {
        "id": "GK-Jr5pzMcYL"
      },
      "source": [
        "## Improving generalization"
      ]
    },
    {
      "cell_type": "markdown",
      "metadata": {
        "id": "IqWe76GAMcYL"
      },
      "source": [
        "### Dataset curation"
      ]
    },
    {
      "cell_type": "markdown",
      "metadata": {
        "id": "luutADoTMcYM"
      },
      "source": [
        "### Feature engineering"
      ]
    },
    {
      "cell_type": "markdown",
      "metadata": {
        "id": "PJbitqLVMcYM"
      },
      "source": [
        "### Using early stopping"
      ]
    },
    {
      "cell_type": "markdown",
      "metadata": {
        "id": "zsIQmRBuMcYM"
      },
      "source": [
        "### Regularizing your model"
      ]
    },
    {
      "cell_type": "markdown",
      "metadata": {
        "id": "NbEKIC2JMcYM"
      },
      "source": [
        "#### Reducing the network's size"
      ]
    },
    {
      "cell_type": "markdown",
      "metadata": {
        "id": "nCbIc2EeMcYM"
      },
      "source": [
        "**Original model**"
      ]
    },
    {
      "cell_type": "code",
      "execution_count": 22,
      "metadata": {
        "id": "ILY7lZhRMcYM",
        "outputId": "fc873794-4499-4d0c-fa62-f4810ea9042a",
        "colab": {
          "base_uri": "https://localhost:8080/"
        }
      },
      "outputs": [
        {
          "output_type": "stream",
          "name": "stdout",
          "text": [
            "Downloading data from https://storage.googleapis.com/tensorflow/tf-keras-datasets/imdb.npz\n",
            "17464789/17464789 [==============================] - 0s 0us/step\n",
            "Epoch 1/20\n",
            "30/30 [==============================] - 3s 65ms/step - loss: 0.5569 - accuracy: 0.7607 - val_loss: 0.4222 - val_accuracy: 0.8612\n",
            "Epoch 2/20\n",
            "30/30 [==============================] - 1s 38ms/step - loss: 0.3464 - accuracy: 0.8901 - val_loss: 0.3568 - val_accuracy: 0.8542\n",
            "Epoch 3/20\n",
            "30/30 [==============================] - 1s 37ms/step - loss: 0.2596 - accuracy: 0.9110 - val_loss: 0.2886 - val_accuracy: 0.8898\n",
            "Epoch 4/20\n",
            "30/30 [==============================] - 2s 61ms/step - loss: 0.2078 - accuracy: 0.9297 - val_loss: 0.2756 - val_accuracy: 0.8906\n",
            "Epoch 5/20\n",
            "30/30 [==============================] - 2s 53ms/step - loss: 0.1733 - accuracy: 0.9415 - val_loss: 0.2786 - val_accuracy: 0.8880\n",
            "Epoch 6/20\n",
            "30/30 [==============================] - 1s 36ms/step - loss: 0.1494 - accuracy: 0.9510 - val_loss: 0.2870 - val_accuracy: 0.8865\n",
            "Epoch 7/20\n",
            "30/30 [==============================] - 1s 37ms/step - loss: 0.1283 - accuracy: 0.9582 - val_loss: 0.2982 - val_accuracy: 0.8835\n",
            "Epoch 8/20\n",
            "30/30 [==============================] - 1s 39ms/step - loss: 0.1112 - accuracy: 0.9659 - val_loss: 0.3052 - val_accuracy: 0.8841\n",
            "Epoch 9/20\n",
            "30/30 [==============================] - 1s 39ms/step - loss: 0.0958 - accuracy: 0.9714 - val_loss: 0.3372 - val_accuracy: 0.8775\n",
            "Epoch 10/20\n",
            "30/30 [==============================] - 1s 38ms/step - loss: 0.0856 - accuracy: 0.9767 - val_loss: 0.3383 - val_accuracy: 0.8809\n",
            "Epoch 11/20\n",
            "30/30 [==============================] - 1s 38ms/step - loss: 0.0715 - accuracy: 0.9808 - val_loss: 0.3635 - val_accuracy: 0.8784\n",
            "Epoch 12/20\n",
            "30/30 [==============================] - 1s 40ms/step - loss: 0.0637 - accuracy: 0.9843 - val_loss: 0.3769 - val_accuracy: 0.8788\n",
            "Epoch 13/20\n",
            "30/30 [==============================] - 1s 39ms/step - loss: 0.0560 - accuracy: 0.9861 - val_loss: 0.3959 - val_accuracy: 0.8781\n",
            "Epoch 14/20\n",
            "30/30 [==============================] - 2s 56ms/step - loss: 0.0455 - accuracy: 0.9897 - val_loss: 0.4174 - val_accuracy: 0.8771\n",
            "Epoch 15/20\n",
            "30/30 [==============================] - 2s 56ms/step - loss: 0.0405 - accuracy: 0.9912 - val_loss: 0.4413 - val_accuracy: 0.8745\n",
            "Epoch 16/20\n",
            "30/30 [==============================] - 1s 37ms/step - loss: 0.0335 - accuracy: 0.9932 - val_loss: 0.4724 - val_accuracy: 0.8723\n",
            "Epoch 17/20\n",
            "30/30 [==============================] - 1s 37ms/step - loss: 0.0299 - accuracy: 0.9947 - val_loss: 0.4970 - val_accuracy: 0.8715\n",
            "Epoch 18/20\n",
            "30/30 [==============================] - 1s 37ms/step - loss: 0.0258 - accuracy: 0.9951 - val_loss: 0.5246 - val_accuracy: 0.8718\n",
            "Epoch 19/20\n",
            "30/30 [==============================] - 1s 40ms/step - loss: 0.0184 - accuracy: 0.9982 - val_loss: 0.5533 - val_accuracy: 0.8682\n",
            "Epoch 20/20\n",
            "30/30 [==============================] - 1s 39ms/step - loss: 0.0225 - accuracy: 0.9945 - val_loss: 0.5676 - val_accuracy: 0.8705\n"
          ]
        }
      ],
      "source": [
        "from tensorflow.keras.datasets import imdb\n",
        "(train_data, train_labels), _ = imdb.load_data(num_words=10000)\n",
        "\n",
        "def vectorize_sequences(sequences, dimension=10000):\n",
        "    results = np.zeros((len(sequences), dimension))\n",
        "    for i, sequence in enumerate(sequences):\n",
        "        results[i, sequence] = 1.\n",
        "    return results\n",
        "train_data = vectorize_sequences(train_data)\n",
        "\n",
        "model = keras.Sequential([\n",
        "    layers.Dense(16, activation=\"relu\"),\n",
        "    layers.Dense(16, activation=\"relu\"),\n",
        "    layers.Dense(1, activation=\"sigmoid\")\n",
        "])\n",
        "model.compile(optimizer=\"rmsprop\",\n",
        "              loss=\"binary_crossentropy\",\n",
        "              metrics=[\"accuracy\"])\n",
        "history_original = model.fit(train_data, train_labels,\n",
        "                             epochs=20, batch_size=512, validation_split=0.4)"
      ]
    },
    {
      "cell_type": "markdown",
      "metadata": {
        "id": "jXIOhLIaMcYM"
      },
      "source": [
        "**Version of the model with lower capacity**"
      ]
    },
    {
      "cell_type": "code",
      "execution_count": 35,
      "metadata": {
        "id": "qpWZrBOdMcYM",
        "outputId": "905467a3-c6af-40ec-97f3-e58a914d9b4d",
        "colab": {
          "base_uri": "https://localhost:8080/"
        }
      },
      "outputs": [
        {
          "output_type": "stream",
          "name": "stdout",
          "text": [
            "Epoch 1/20\n",
            "30/30 [==============================] - 3s 71ms/step - loss: 0.6314 - accuracy: 0.7578 - val_loss: 0.5744 - val_accuracy: 0.8185\n",
            "Epoch 2/20\n",
            "30/30 [==============================] - 2s 62ms/step - loss: 0.5226 - accuracy: 0.8559 - val_loss: 0.4884 - val_accuracy: 0.8455\n",
            "Epoch 3/20\n",
            "30/30 [==============================] - 1s 34ms/step - loss: 0.4381 - accuracy: 0.8755 - val_loss: 0.4225 - val_accuracy: 0.8609\n",
            "Epoch 4/20\n",
            "30/30 [==============================] - 1s 34ms/step - loss: 0.3728 - accuracy: 0.8889 - val_loss: 0.3786 - val_accuracy: 0.8664\n",
            "Epoch 5/20\n",
            "30/30 [==============================] - 1s 35ms/step - loss: 0.3228 - accuracy: 0.8991 - val_loss: 0.3419 - val_accuracy: 0.8763\n",
            "Epoch 6/20\n",
            "30/30 [==============================] - 1s 36ms/step - loss: 0.2832 - accuracy: 0.9079 - val_loss: 0.3149 - val_accuracy: 0.8820\n",
            "Epoch 7/20\n",
            "30/30 [==============================] - 1s 33ms/step - loss: 0.2520 - accuracy: 0.9181 - val_loss: 0.2973 - val_accuracy: 0.8858\n",
            "Epoch 8/20\n",
            "30/30 [==============================] - 1s 37ms/step - loss: 0.2274 - accuracy: 0.9251 - val_loss: 0.2862 - val_accuracy: 0.8869\n",
            "Epoch 9/20\n",
            "30/30 [==============================] - 1s 37ms/step - loss: 0.2062 - accuracy: 0.9322 - val_loss: 0.2789 - val_accuracy: 0.8887\n",
            "Epoch 10/20\n",
            "30/30 [==============================] - 1s 36ms/step - loss: 0.1885 - accuracy: 0.9371 - val_loss: 0.2756 - val_accuracy: 0.8906\n",
            "Epoch 11/20\n",
            "30/30 [==============================] - 1s 35ms/step - loss: 0.1733 - accuracy: 0.9427 - val_loss: 0.2736 - val_accuracy: 0.8907\n",
            "Epoch 12/20\n",
            "30/30 [==============================] - 2s 51ms/step - loss: 0.1597 - accuracy: 0.9472 - val_loss: 0.2743 - val_accuracy: 0.8888\n",
            "Epoch 13/20\n",
            "30/30 [==============================] - 2s 63ms/step - loss: 0.1475 - accuracy: 0.9534 - val_loss: 0.2815 - val_accuracy: 0.8882\n",
            "Epoch 14/20\n",
            "30/30 [==============================] - 1s 36ms/step - loss: 0.1371 - accuracy: 0.9564 - val_loss: 0.2831 - val_accuracy: 0.8860\n",
            "Epoch 15/20\n",
            "30/30 [==============================] - 1s 37ms/step - loss: 0.1273 - accuracy: 0.9600 - val_loss: 0.2840 - val_accuracy: 0.8876\n",
            "Epoch 16/20\n",
            "30/30 [==============================] - 1s 38ms/step - loss: 0.1185 - accuracy: 0.9647 - val_loss: 0.2892 - val_accuracy: 0.8862\n",
            "Epoch 17/20\n",
            "30/30 [==============================] - 1s 35ms/step - loss: 0.1102 - accuracy: 0.9673 - val_loss: 0.2960 - val_accuracy: 0.8859\n",
            "Epoch 18/20\n",
            "30/30 [==============================] - 1s 38ms/step - loss: 0.1020 - accuracy: 0.9714 - val_loss: 0.3094 - val_accuracy: 0.8823\n",
            "Epoch 19/20\n",
            "30/30 [==============================] - 1s 37ms/step - loss: 0.0950 - accuracy: 0.9728 - val_loss: 0.3115 - val_accuracy: 0.8842\n",
            "Epoch 20/20\n",
            "30/30 [==============================] - 1s 34ms/step - loss: 0.0877 - accuracy: 0.9757 - val_loss: 0.3198 - val_accuracy: 0.8847\n"
          ]
        }
      ],
      "source": [
        "model = keras.Sequential([\n",
        "    layers.Dense(4, activation=\"relu\"),\n",
        "    layers.Dense(4, activation=\"relu\"),\n",
        "    layers.Dense(1, activation=\"sigmoid\")\n",
        "])\n",
        "model.compile(optimizer=\"rmsprop\",\n",
        "              loss=\"binary_crossentropy\",\n",
        "              metrics=[\"accuracy\"])\n",
        "history_smaller_model = model.fit(\n",
        "    train_data, train_labels,\n",
        "    epochs=20, batch_size=512, validation_split=0.4)"
      ]
    },
    {
      "cell_type": "markdown",
      "metadata": {
        "id": "9d7C50qyMcYN"
      },
      "source": [
        "**Version of the model with higher capacity**"
      ]
    },
    {
      "cell_type": "code",
      "execution_count": 38,
      "metadata": {
        "id": "SkGrFIPlMcYN",
        "outputId": "297f5c49-f0de-4f0c-cd9b-e1f6e3eeb143",
        "colab": {
          "base_uri": "https://localhost:8080/"
        }
      },
      "outputs": [
        {
          "output_type": "stream",
          "name": "stdout",
          "text": [
            "Epoch 1/20\n",
            "30/30 [==============================] - 12s 397ms/step - loss: 0.5768 - accuracy: 0.7205 - val_loss: 0.3894 - val_accuracy: 0.8389\n",
            "Epoch 2/20\n",
            "30/30 [==============================] - 11s 367ms/step - loss: 0.3261 - accuracy: 0.8674 - val_loss: 0.2821 - val_accuracy: 0.8830\n",
            "Epoch 3/20\n",
            "30/30 [==============================] - 11s 368ms/step - loss: 0.2325 - accuracy: 0.9073 - val_loss: 0.2827 - val_accuracy: 0.8839\n",
            "Epoch 4/20\n",
            "30/30 [==============================] - 10s 348ms/step - loss: 0.1991 - accuracy: 0.9203 - val_loss: 0.2698 - val_accuracy: 0.8875\n",
            "Epoch 5/20\n",
            "30/30 [==============================] - 10s 322ms/step - loss: 0.1231 - accuracy: 0.9564 - val_loss: 0.3957 - val_accuracy: 0.8563\n",
            "Epoch 6/20\n",
            "30/30 [==============================] - 10s 346ms/step - loss: 0.1323 - accuracy: 0.9514 - val_loss: 0.3156 - val_accuracy: 0.8833\n",
            "Epoch 7/20\n",
            "30/30 [==============================] - 11s 364ms/step - loss: 0.0848 - accuracy: 0.9729 - val_loss: 0.3333 - val_accuracy: 0.8885\n",
            "Epoch 8/20\n",
            "30/30 [==============================] - 11s 357ms/step - loss: 0.0626 - accuracy: 0.9814 - val_loss: 0.3642 - val_accuracy: 0.8852\n",
            "Epoch 9/20\n",
            "30/30 [==============================] - 10s 319ms/step - loss: 0.0670 - accuracy: 0.9801 - val_loss: 0.3462 - val_accuracy: 0.8863\n",
            "Epoch 10/20\n",
            "30/30 [==============================] - 10s 341ms/step - loss: 0.0107 - accuracy: 0.9987 - val_loss: 0.4546 - val_accuracy: 0.8844\n",
            "Epoch 11/20\n",
            "30/30 [==============================] - 10s 344ms/step - loss: 0.0703 - accuracy: 0.9827 - val_loss: 0.3892 - val_accuracy: 0.8846\n",
            "Epoch 12/20\n",
            "30/30 [==============================] - 11s 369ms/step - loss: 0.0053 - accuracy: 0.9997 - val_loss: 0.4790 - val_accuracy: 0.8858\n",
            "Epoch 13/20\n",
            "30/30 [==============================] - 12s 420ms/step - loss: 0.0024 - accuracy: 0.9998 - val_loss: 0.7773 - val_accuracy: 0.8472\n",
            "Epoch 14/20\n",
            "30/30 [==============================] - 10s 342ms/step - loss: 0.0871 - accuracy: 0.9821 - val_loss: 0.4689 - val_accuracy: 0.8860\n",
            "Epoch 15/20\n",
            "30/30 [==============================] - 10s 325ms/step - loss: 0.0019 - accuracy: 1.0000 - val_loss: 0.5460 - val_accuracy: 0.8863\n",
            "Epoch 16/20\n",
            "30/30 [==============================] - 11s 369ms/step - loss: 9.9698e-04 - accuracy: 1.0000 - val_loss: 0.5912 - val_accuracy: 0.8857\n",
            "Epoch 17/20\n",
            "30/30 [==============================] - 10s 346ms/step - loss: 6.0559e-04 - accuracy: 1.0000 - val_loss: 0.6358 - val_accuracy: 0.8859\n",
            "Epoch 18/20\n",
            "30/30 [==============================] - 13s 435ms/step - loss: 3.8881e-04 - accuracy: 1.0000 - val_loss: 0.6710 - val_accuracy: 0.8856\n",
            "Epoch 19/20\n",
            "30/30 [==============================] - 10s 344ms/step - loss: 2.8426e-04 - accuracy: 1.0000 - val_loss: 0.6968 - val_accuracy: 0.8864\n",
            "Epoch 20/20\n",
            "30/30 [==============================] - 10s 324ms/step - loss: 2.2352e-04 - accuracy: 1.0000 - val_loss: 0.7120 - val_accuracy: 0.8848\n"
          ]
        }
      ],
      "source": [
        "model = keras.Sequential([\n",
        "    layers.Dense(512, activation=\"relu\"),\n",
        "    layers.Dense(512, activation=\"relu\"),\n",
        "    layers.Dense(1, activation=\"sigmoid\")\n",
        "])\n",
        "model.compile(optimizer=\"rmsprop\",\n",
        "              loss=\"binary_crossentropy\",\n",
        "              metrics=[\"accuracy\"])\n",
        "history_larger_model = model.fit(\n",
        "    train_data, train_labels,\n",
        "    epochs=20, batch_size=512, validation_split=0.4)"
      ]
    },
    {
      "cell_type": "markdown",
      "metadata": {
        "id": "jqnKtV0fMcYN"
      },
      "source": [
        "#### Adding weight regularization"
      ]
    },
    {
      "cell_type": "markdown",
      "metadata": {
        "id": "ItQIxaQcMcYN"
      },
      "source": [
        "**Adding L2 weight regularization to the model**"
      ]
    },
    {
      "cell_type": "code",
      "execution_count": 39,
      "metadata": {
        "id": "DMRsBzrdMcYN",
        "outputId": "bbd65c98-166c-4d7a-cd55-a898f8e616b0",
        "colab": {
          "base_uri": "https://localhost:8080/"
        }
      },
      "outputs": [
        {
          "output_type": "stream",
          "name": "stdout",
          "text": [
            "Epoch 1/20\n",
            "30/30 [==============================] - 3s 90ms/step - loss: 0.6160 - accuracy: 0.7710 - val_loss: 0.4770 - val_accuracy: 0.8657\n",
            "Epoch 2/20\n",
            "30/30 [==============================] - 1s 40ms/step - loss: 0.4114 - accuracy: 0.8903 - val_loss: 0.3946 - val_accuracy: 0.8832\n",
            "Epoch 3/20\n",
            "30/30 [==============================] - 1s 38ms/step - loss: 0.3392 - accuracy: 0.9121 - val_loss: 0.3720 - val_accuracy: 0.8869\n",
            "Epoch 4/20\n",
            "30/30 [==============================] - 1s 36ms/step - loss: 0.3003 - accuracy: 0.9251 - val_loss: 0.4148 - val_accuracy: 0.8599\n",
            "Epoch 5/20\n",
            "30/30 [==============================] - 1s 38ms/step - loss: 0.2836 - accuracy: 0.9290 - val_loss: 0.3631 - val_accuracy: 0.8855\n",
            "Epoch 6/20\n",
            "30/30 [==============================] - 1s 35ms/step - loss: 0.2636 - accuracy: 0.9405 - val_loss: 0.3615 - val_accuracy: 0.8865\n",
            "Epoch 7/20\n",
            "30/30 [==============================] - 1s 38ms/step - loss: 0.2519 - accuracy: 0.9427 - val_loss: 0.3688 - val_accuracy: 0.8834\n",
            "Epoch 8/20\n",
            "30/30 [==============================] - 1s 39ms/step - loss: 0.2428 - accuracy: 0.9465 - val_loss: 0.3702 - val_accuracy: 0.8832\n",
            "Epoch 9/20\n",
            "30/30 [==============================] - 1s 36ms/step - loss: 0.2384 - accuracy: 0.9473 - val_loss: 0.3754 - val_accuracy: 0.8815\n",
            "Epoch 10/20\n",
            "30/30 [==============================] - 1s 40ms/step - loss: 0.2326 - accuracy: 0.9495 - val_loss: 0.3827 - val_accuracy: 0.8802\n",
            "Epoch 11/20\n",
            "30/30 [==============================] - 2s 51ms/step - loss: 0.2237 - accuracy: 0.9549 - val_loss: 0.4095 - val_accuracy: 0.8744\n",
            "Epoch 12/20\n",
            "30/30 [==============================] - 2s 51ms/step - loss: 0.2215 - accuracy: 0.9542 - val_loss: 0.3880 - val_accuracy: 0.8802\n",
            "Epoch 13/20\n",
            "30/30 [==============================] - 1s 38ms/step - loss: 0.2139 - accuracy: 0.9579 - val_loss: 0.4696 - val_accuracy: 0.8530\n",
            "Epoch 14/20\n",
            "30/30 [==============================] - 1s 37ms/step - loss: 0.2152 - accuracy: 0.9573 - val_loss: 0.4216 - val_accuracy: 0.8697\n",
            "Epoch 15/20\n",
            "30/30 [==============================] - 1s 39ms/step - loss: 0.2143 - accuracy: 0.9553 - val_loss: 0.4086 - val_accuracy: 0.8757\n",
            "Epoch 16/20\n",
            "30/30 [==============================] - 1s 38ms/step - loss: 0.2015 - accuracy: 0.9644 - val_loss: 0.4152 - val_accuracy: 0.8760\n",
            "Epoch 17/20\n",
            "30/30 [==============================] - 1s 37ms/step - loss: 0.2073 - accuracy: 0.9590 - val_loss: 0.4149 - val_accuracy: 0.8750\n",
            "Epoch 18/20\n",
            "30/30 [==============================] - 1s 36ms/step - loss: 0.2027 - accuracy: 0.9613 - val_loss: 0.4170 - val_accuracy: 0.8764\n",
            "Epoch 19/20\n",
            "30/30 [==============================] - 1s 37ms/step - loss: 0.2005 - accuracy: 0.9635 - val_loss: 0.4423 - val_accuracy: 0.8703\n",
            "Epoch 20/20\n",
            "30/30 [==============================] - 1s 38ms/step - loss: 0.2017 - accuracy: 0.9597 - val_loss: 0.4249 - val_accuracy: 0.8744\n"
          ]
        }
      ],
      "source": [
        "from tensorflow.keras import regularizers\n",
        "model = keras.Sequential([\n",
        "    layers.Dense(16,\n",
        "                 kernel_regularizer=regularizers.l2(0.002),\n",
        "                 activation=\"relu\"),\n",
        "    layers.Dense(16,\n",
        "                 kernel_regularizer=regularizers.l2(0.002),\n",
        "                 activation=\"relu\"),\n",
        "    layers.Dense(1, activation=\"sigmoid\")\n",
        "])\n",
        "model.compile(optimizer=\"rmsprop\",\n",
        "              loss=\"binary_crossentropy\",\n",
        "              metrics=[\"accuracy\"])\n",
        "history_l2_reg = model.fit(\n",
        "    train_data, train_labels,\n",
        "    epochs=20, batch_size=512, validation_split=0.4)"
      ]
    },
    {
      "cell_type": "markdown",
      "metadata": {
        "id": "Nv4ZFnJxMcYN"
      },
      "source": [
        "**Different weight regularizers available in Keras**"
      ]
    },
    {
      "cell_type": "code",
      "execution_count": 40,
      "metadata": {
        "id": "CvhD-3T5McYN",
        "outputId": "1e9d232d-7523-42f3-a1fb-2c3223e034cb",
        "colab": {
          "base_uri": "https://localhost:8080/"
        }
      },
      "outputs": [
        {
          "output_type": "execute_result",
          "data": {
            "text/plain": [
              "<keras.regularizers.L1L2 at 0x7fd9994ca130>"
            ]
          },
          "metadata": {},
          "execution_count": 40
        }
      ],
      "source": [
        "from tensorflow.keras import regularizers\n",
        "regularizers.l1(0.001)\n",
        "regularizers.l1_l2(l1=0.001, l2=0.001)"
      ]
    },
    {
      "cell_type": "markdown",
      "metadata": {
        "id": "UJezdNZfMcYO"
      },
      "source": [
        "#### Adding dropout"
      ]
    },
    {
      "cell_type": "markdown",
      "metadata": {
        "id": "uuiXjhfJMcYO"
      },
      "source": [
        "**Adding dropout to the IMDB model**"
      ]
    },
    {
      "cell_type": "code",
      "execution_count": 41,
      "metadata": {
        "id": "33y3hD01McYO",
        "outputId": "bee102f4-d455-49e8-e197-00fb21baf5a9",
        "colab": {
          "base_uri": "https://localhost:8080/"
        }
      },
      "outputs": [
        {
          "output_type": "stream",
          "name": "stdout",
          "text": [
            "Epoch 1/20\n",
            "30/30 [==============================] - 3s 62ms/step - loss: 0.6371 - accuracy: 0.6370 - val_loss: 0.5407 - val_accuracy: 0.7833\n",
            "Epoch 2/20\n",
            "30/30 [==============================] - 1s 38ms/step - loss: 0.5287 - accuracy: 0.7767 - val_loss: 0.4506 - val_accuracy: 0.8771\n",
            "Epoch 3/20\n",
            "30/30 [==============================] - 2s 59ms/step - loss: 0.4571 - accuracy: 0.8268 - val_loss: 0.4174 - val_accuracy: 0.8367\n",
            "Epoch 4/20\n",
            "30/30 [==============================] - 2s 54ms/step - loss: 0.3962 - accuracy: 0.8677 - val_loss: 0.3476 - val_accuracy: 0.8855\n",
            "Epoch 5/20\n",
            "30/30 [==============================] - 1s 40ms/step - loss: 0.3503 - accuracy: 0.8919 - val_loss: 0.3292 - val_accuracy: 0.8829\n",
            "Epoch 6/20\n",
            "30/30 [==============================] - 1s 38ms/step - loss: 0.3137 - accuracy: 0.9083 - val_loss: 0.3060 - val_accuracy: 0.8874\n",
            "Epoch 7/20\n",
            "30/30 [==============================] - 1s 39ms/step - loss: 0.2785 - accuracy: 0.9201 - val_loss: 0.3093 - val_accuracy: 0.8878\n",
            "Epoch 8/20\n",
            "30/30 [==============================] - 1s 36ms/step - loss: 0.2526 - accuracy: 0.9290 - val_loss: 0.2954 - val_accuracy: 0.8907\n",
            "Epoch 9/20\n",
            "30/30 [==============================] - 1s 37ms/step - loss: 0.2243 - accuracy: 0.9407 - val_loss: 0.3035 - val_accuracy: 0.8891\n",
            "Epoch 10/20\n",
            "30/30 [==============================] - 1s 36ms/step - loss: 0.2080 - accuracy: 0.9409 - val_loss: 0.2966 - val_accuracy: 0.8887\n",
            "Epoch 11/20\n",
            "30/30 [==============================] - 1s 38ms/step - loss: 0.1848 - accuracy: 0.9501 - val_loss: 0.3066 - val_accuracy: 0.8853\n",
            "Epoch 12/20\n",
            "30/30 [==============================] - 1s 39ms/step - loss: 0.1730 - accuracy: 0.9535 - val_loss: 0.3545 - val_accuracy: 0.8849\n",
            "Epoch 13/20\n",
            "30/30 [==============================] - 2s 54ms/step - loss: 0.1519 - accuracy: 0.9605 - val_loss: 0.3481 - val_accuracy: 0.8871\n",
            "Epoch 14/20\n",
            "30/30 [==============================] - 2s 65ms/step - loss: 0.1430 - accuracy: 0.9634 - val_loss: 0.3592 - val_accuracy: 0.8865\n",
            "Epoch 15/20\n",
            "30/30 [==============================] - 1s 39ms/step - loss: 0.1298 - accuracy: 0.9647 - val_loss: 0.4258 - val_accuracy: 0.8831\n",
            "Epoch 16/20\n",
            "30/30 [==============================] - 1s 36ms/step - loss: 0.1231 - accuracy: 0.9668 - val_loss: 0.4014 - val_accuracy: 0.8844\n",
            "Epoch 17/20\n",
            "30/30 [==============================] - 1s 37ms/step - loss: 0.1154 - accuracy: 0.9687 - val_loss: 0.4716 - val_accuracy: 0.8819\n",
            "Epoch 18/20\n",
            "30/30 [==============================] - 1s 37ms/step - loss: 0.1064 - accuracy: 0.9716 - val_loss: 0.4613 - val_accuracy: 0.8845\n",
            "Epoch 19/20\n",
            "30/30 [==============================] - 1s 37ms/step - loss: 0.0997 - accuracy: 0.9751 - val_loss: 0.4962 - val_accuracy: 0.8820\n",
            "Epoch 20/20\n",
            "30/30 [==============================] - 1s 36ms/step - loss: 0.0989 - accuracy: 0.9739 - val_loss: 0.4823 - val_accuracy: 0.8833\n"
          ]
        }
      ],
      "source": [
        "model = keras.Sequential([\n",
        "    layers.Dense(16, activation=\"relu\"),\n",
        "    layers.Dropout(0.5),\n",
        "    layers.Dense(16, activation=\"relu\"),\n",
        "    layers.Dropout(0.5),\n",
        "    layers.Dense(1, activation=\"sigmoid\")\n",
        "])\n",
        "model.compile(optimizer=\"rmsprop\",\n",
        "              loss=\"binary_crossentropy\",\n",
        "              metrics=[\"accuracy\"])\n",
        "history_dropout = model.fit(\n",
        "    train_data, train_labels,\n",
        "    epochs=20, batch_size=512, validation_split=0.4)"
      ]
    },
    {
      "cell_type": "markdown",
      "metadata": {
        "id": "w6_1pidsMcYO"
      },
      "source": [
        "## Summary"
      ]
    }
  ],
  "metadata": {
    "colab": {
      "name": "chapter05_fundamentals-of-ml.i",
      "provenance": []
    },
    "kernelspec": {
      "display_name": "Python 3",
      "language": "python",
      "name": "python3"
    },
    "language_info": {
      "codemirror_mode": {
        "name": "ipython",
        "version": 3
      },
      "file_extension": ".py",
      "mimetype": "text/x-python",
      "name": "python",
      "nbconvert_exporter": "python",
      "pygments_lexer": "ipython3",
      "version": "3.7.0"
    }
  },
  "nbformat": 4,
  "nbformat_minor": 0
}